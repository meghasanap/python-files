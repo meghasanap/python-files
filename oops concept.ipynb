{
 "cells": [
  {
   "cell_type": "raw",
   "id": "46202490-dc61-4b05-b891-7e06496a9b5c",
   "metadata": {},
   "source": [
    "OOPs Concepts in Python (Explained in Detail)\n",
    "Python is an object-oriented language that supports the following key OOPs concepts:"
   ]
  },
  {
   "cell_type": "raw",
   "id": "194f31cf-d38a-4a80-8e4b-d979ea4d8085",
   "metadata": {},
   "source": [
    " 1. Class\n",
    "A class is a blueprint or template to create objects.\n",
    "In Python, a class is a user-defined data type that contains both the data itself and the methods that may be used to manipulate it. In a sense, classes serve as a template to create objects. They provide the characteristics and operations that the objects will employ.\n",
    "\n",
    "Suppose a class is a prototype of a building. A building contains all the details about the floor, rooms, doors, windows, etc. we can make as many buildings as we want, based on these details. Hence, the building can be seen as a class, and we can create as many objects of this class.\n",
    "\n",
    "\n",
    "\n",
    "The pass statement is also known as the null statement. The Python mediator doesn't overlook a Remark, though a pass proclamation isn't. As a result, these two Python keywords are distinct.\n",
    "\n",
    "We can use the pass statement as a placeholder when unsure of the code to provide. Therefore, the pass only needs to be placed on that line. The pass might be utilized when we wish no code to be executed. We can simply insert a pass in cases where empty code is prohibited, such as in loops, functions, class definitions, and if-else statements."
   ]
  },
  {
   "cell_type": "code",
   "execution_count": 1,
   "id": "7fdf3b0c-4ca7-4d85-806c-2178035449ee",
   "metadata": {},
   "outputs": [],
   "source": [
    "class Car:\n",
    "    # attributes and methods will go here\n",
    "    pass\n",
    "#It doesn't create anything until we create an object from it."
   ]
  },
  {
   "cell_type": "raw",
   "id": "ab11ee7a-2868-4a58-bee5-2fe6aa610fd5",
   "metadata": {},
   "source": [
    " 2. Object\n",
    "An object is an instance of a class. It represents a real-world entity."
   ]
  },
  {
   "cell_type": "code",
   "execution_count": 6,
   "id": "729b555c-ef68-4c5c-bb8a-9e41ea518f2a",
   "metadata": {},
   "outputs": [
    {
     "name": "stdout",
     "output_type": "stream",
     "text": [
      "Car started\n"
     ]
    }
   ],
   "source": [
    "class Car:\n",
    "    def start(self):\n",
    "        print(\"Car started\")\n",
    "\n",
    "my_car = Car()   # Object created\n",
    "my_car.start()   # Method called using object\n"
   ]
  },
  {
   "cell_type": "raw",
   "id": "913c934b-45fe-4887-9cbb-04c883f4a75d",
   "metadata": {},
   "source": [
    "3.counstructor\n",
    "\n",
    "A constructor is a special type of method (function) which is used to initialize the instance members of the class.\n",
    "\n",
    "In C++ or Java, the constructor has the same name as its class, but it treats constructor differently in Python. It is used to create an object.\n",
    "\n",
    "Constructors can be of two types.\n",
    "\n",
    "Parameterized Constructor\n",
    "Non-parameterized Constructor\n",
    "Constructor definition is executed when we create the object of this class. Constructors also verify that there are enough resources for the object to perform any start-up task"
   ]
  },
  {
   "cell_type": "raw",
   "id": "d0bf83c4-0736-471f-a93d-fd357a786de6",
   "metadata": {},
   "source": [
    "In Python, the method the __init__() simulates the constructor of the class. This method is called when the class is instantiated. It accepts the self-keyword as a first argument which allows accessing the attributes or method of the class.\n",
    "\n",
    "We can pass any number of arguments at the time of creating the class object, depending upon the __init__() definition. It is mostly used to initialize the class attributes. Every class must have a constructor, even if it simply relies on the default constructor.\n",
    "\n",
    "Consider the following example to initialize the Employee class attributes."
   ]
  },
  {
   "cell_type": "code",
   "execution_count": 1,
   "id": "a901c26a-78e3-457f-af58-fb0fe13af2b1",
   "metadata": {},
   "outputs": [
    {
     "name": "stdout",
     "output_type": "stream",
     "text": [
      "The number of students: 3\n"
     ]
    }
   ],
   "source": [
    "class Student:    \n",
    "    count = 0    \n",
    "    def __init__(self):    \n",
    "        Student.count = Student.count + 1    \n",
    "a=Student()    \n",
    "b=Student()    \n",
    "c=Student()    \n",
    "print(\"The number of students:\",Student.count)  "
   ]
  },
  {
   "cell_type": "raw",
   "id": "e0a1f335-e87e-4b23-9db2-7ef401e3ac7d",
   "metadata": {},
   "source": [
    "Python Non-Parameterized Constructor\n",
    "The non-parameterized constructor uses when we do not want to manipulate the value or the constructor that has only self as an argument. Consider the following example."
   ]
  },
  {
   "cell_type": "code",
   "execution_count": 3,
   "id": "f4eba74c-3b4c-4b33-8af8-bfcb6ccf200a",
   "metadata": {},
   "outputs": [
    {
     "name": "stdout",
     "output_type": "stream",
     "text": [
      "This is non parametrized constructor\n",
      "Hello John\n"
     ]
    }
   ],
   "source": [
    "class Student:  \n",
    "    # Constructor - non parameterized  \n",
    "    def __init__(self):  \n",
    "        print(\"This is non parametrized constructor\")  \n",
    "    def show(self,name):  \n",
    "        print(\"Hello\",name)  \n",
    "student = Student()  \n",
    "student.show(\"John\")  "
   ]
  },
  {
   "cell_type": "raw",
   "id": "670bcb21-7c98-48a8-9c27-7bc0ea0adba3",
   "metadata": {},
   "source": [
    "Python Parameterized Constructor\n",
    "The parameterized constructor has multiple parameters along with the self. Consider the following example."
   ]
  },
  {
   "cell_type": "code",
   "execution_count": 4,
   "id": "527f7432-a22c-4b43-9e7b-6286bdb7299b",
   "metadata": {},
   "outputs": [
    {
     "name": "stdout",
     "output_type": "stream",
     "text": [
      "This is parametrized constructor\n",
      "Hello John\n"
     ]
    }
   ],
   "source": [
    "class Student:  \n",
    "    # Constructor - parameterized  \n",
    "    def __init__(self, name):  \n",
    "        print(\"This is parametrized constructor\")  \n",
    "        self.name = name  \n",
    "    def show(self):  \n",
    "        print(\"Hello\",self.name)  \n",
    "student = Student(\"John\")  \n",
    "student.show()    "
   ]
  },
  {
   "cell_type": "code",
   "execution_count": 5,
   "id": "9d98eaf0-b759-4b6c-9ef5-fcb99aba7e46",
   "metadata": {},
   "outputs": [
    {
     "name": "stdout",
     "output_type": "stream",
     "text": [
      "101 Joseph\n"
     ]
    }
   ],
   "source": [
    "class Student:  \n",
    "    roll_num = 101  \n",
    "    name = \"Joseph\"  \n",
    "  \n",
    "    def display(self):  \n",
    "        print(self.roll_num,self.name)  \n",
    "  \n",
    "st = Student()  \n",
    "st.display()  "
   ]
  },
  {
   "cell_type": "raw",
   "id": "a913299f-f060-4a6f-9f55-da088af1bc0a",
   "metadata": {},
   "source": [
    "Python built-in class functions\n",
    "The built-in functions defined in the class are described in the following table.\n",
    "\n",
    "\n",
    "1\n",
    "getattr(obj,name,default)\n",
    "It is used to access the attribute of the object.\n",
    "2\n",
    "setattr(obj, name,value)\n",
    "It is used to set a particular value to the specific attribute of an object.\n",
    "3\n",
    "delattr(obj, name)\n",
    "It is used to delete a specific attribute.\n",
    "4\n",
    "hasattr(obj, name)\n",
    "It returns true if the object contains some specific attribute."
   ]
  },
  {
   "cell_type": "code",
   "execution_count": 1,
   "id": "ad58a258-a71c-41b2-997e-96f7fa4d08be",
   "metadata": {},
   "outputs": [
    {
     "name": "stdout",
     "output_type": "stream",
     "text": [
      "John\n",
      "23\n",
      "True\n"
     ]
    },
    {
     "ename": "AttributeError",
     "evalue": "'Student' object has no attribute 'age'",
     "output_type": "error",
     "traceback": [
      "\u001b[1;31m---------------------------------------------------------------------------\u001b[0m",
      "\u001b[1;31mAttributeError\u001b[0m                            Traceback (most recent call last)",
      "Cell \u001b[1;32mIn[1], line 26\u001b[0m\n\u001b[0;32m     23\u001b[0m \u001b[38;5;28mdelattr\u001b[39m(s, \u001b[38;5;124m'\u001b[39m\u001b[38;5;124mage\u001b[39m\u001b[38;5;124m'\u001b[39m)  \n\u001b[0;32m     25\u001b[0m \u001b[38;5;66;03m# this will give an error since the attribute age has been deleted  \u001b[39;00m\n\u001b[1;32m---> 26\u001b[0m \u001b[38;5;28mprint\u001b[39m(s\u001b[38;5;241m.\u001b[39mage)\n",
      "\u001b[1;31mAttributeError\u001b[0m: 'Student' object has no attribute 'age'"
     ]
    }
   ],
   "source": [
    "class Student:  \n",
    "    def __init__(self, name, id, age):  \n",
    "        self.name = name  \n",
    "        self.id = id  \n",
    "        self.age = age  \n",
    "  \n",
    "    # creates the object of the class Student  \n",
    "s = Student(\"John\", 101, 22)  \n",
    "  \n",
    "# prints the attribute name of the object s  \n",
    "print(getattr(s, 'name'))  \n",
    "  \n",
    "# reset the value of attribute age to 23  \n",
    "setattr(s, \"age\", 23)  \n",
    "  \n",
    "# prints the modified value of age  \n",
    "print(getattr(s, 'age'))  \n",
    "  \n",
    "# prints true if the student contains the attribute with name id  \n",
    "  \n",
    "print(hasattr(s, 'id'))  \n",
    "# deletes the attribute age  \n",
    "delattr(s, 'age')  \n",
    "  \n",
    "# this will give an error since the attribute age has been deleted  \n",
    "print(s.age)  "
   ]
  },
  {
   "cell_type": "raw",
   "id": "a736eea7-3eea-42b6-9a99-032cb0ce21d8",
   "metadata": {},
   "source": [
    "Built-in class attributes\n",
    "Along with the other attributes, a Python class also contains some built-in class attributes which provide information about the class.\n",
    "\n",
    "The built-in class attributes are given in the below table.\n",
    "\n",
    "\n",
    "1\n",
    "__dict__\n",
    "It provides the dictionary containing the information about the class namespace.\n",
    "2\n",
    "__doc__\n",
    "It contains a string which has the class documentation\n",
    "3\n",
    "__name__\n",
    "It is used to access the class name.\n",
    "4\n",
    "__module__\n",
    "It is used to access the module in which, this class is defined.\n",
    "5\n",
    "__bases__\n",
    "It contains a tuple including all base classes."
   ]
  },
  {
   "cell_type": "code",
   "execution_count": 1,
   "id": "224ef99b-530f-4e54-9f39-e5f6e95a670c",
   "metadata": {},
   "outputs": [
    {
     "name": "stdout",
     "output_type": "stream",
     "text": [
      "None\n",
      "{'name': 'John', 'id': 101, 'age': 22}\n",
      "__main__\n"
     ]
    }
   ],
   "source": [
    "class Student:    \n",
    "    def __init__(self,name,id,age):    \n",
    "        self.name = name;    \n",
    "        self.id = id;    \n",
    "        self.age = age    \n",
    "    def display_details(self):    \n",
    "        print(\"Name:%s, ID:%d, age:%d\"%(self.name,self.id))    \n",
    "s = Student(\"John\",101,22)    \n",
    "print(s.__doc__)    \n",
    "print(s.__dict__)    \n",
    "print(s.__module__)    "
   ]
  },
  {
   "cell_type": "raw",
   "id": "037a9bc4-dd24-4929-bbfa-9ddf4c796d0e",
   "metadata": {},
   "source": [
    "Encapsulation\n",
    "Wrapping data (variables) and code (methods) together into a single unit (class).\n",
    "\n",
    "It restricts direct access to some components (using private members).\n",
    "\n",
    "\n",
    "In order to make an instance of a class in Python, a specific function called __init__ is called. Although it is used to set the object's attributes, it is often referred to as a constructor.\n",
    "\n",
    "The self-argument is the only one required by the __init__ method. This argument refers to the newly generated instance of the class. To initialise the values of each attribute associated with the objects, you can declare extra arguments in the __init__ method.\n",
    "\n",
    "Whereas, instance variables are specific to each instance of a class. They are specified using the self-argument in the __init__ method. Here's an illustration:"
   ]
  },
  {
   "cell_type": "raw",
   "id": "b96f4f75-5469-449d-9a90-9da7c8247430",
   "metadata": {},
   "source": [
    "Encapsulation is implemented in Python by stopping users from directly accessing certain parts of an object, while giving them the ability to access those areas through other means (methods).\n",
    "\n",
    "Access can be controlled using different access modifiers:\n",
    "\n",
    "Public Attribute: Accessible from anywhere.\n",
    "Protected Attributes (_singleUnderscore): Not intended for public use, but still accessible.\n",
    "Private Attributes (__doubleUnderscore): Not directly accessible from outside the class."
   ]
  },
  {
   "cell_type": "code",
   "execution_count": null,
   "id": "6ce34fde-6bfb-41db-95a4-05924208905f",
   "metadata": {},
   "outputs": [],
   "source": []
  },
  {
   "cell_type": "code",
   "execution_count": 1,
   "id": "2349a2f1-66cc-4d0b-94d6-66b2573821fc",
   "metadata": {},
   "outputs": [
    {
     "name": "stdout",
     "output_type": "stream",
     "text": [
      "10000\n"
     ]
    }
   ],
   "source": [
    "class Account:\n",
    "    def __init__(self, balance):\n",
    "        self.__balance = balance  # private variable\n",
    "\n",
    "    def get_balance(self):\n",
    "        return self.__balance\n",
    "\n",
    "a1 = Account(10000)\n",
    "print(a1.get_balance())\n"
   ]
  },
  {
   "cell_type": "raw",
   "id": "d378237a-87a3-4620-a3e3-edb44311e698",
   "metadata": {},
   "source": [
    " Inheritance\n",
    "One class (child) inherits the properties and behaviors of another class (parent).\n",
    "\n",
    "Promotes code reuse.\n",
    "Inheritance is an important aspect of the object-oriented paradigm. Inheritance provides code reusability to the program because we can use an existing class to create a new class instead of creating it from scratch.\n",
    "\n",
    "In inheritance, the child class acquires the properties and can access all the data members and functions defined in the parent class. A child class can also provide its specific implementation to the functions of the parent class. In this section of the tutorial, we will discuss inheritance in detail.\n",
    "\n",
    "In python, a derived class can inherit base class by just mentioning the base in the bracket after the derived class name. Consider the following syntax to inherit a base class into the derived class."
   ]
  },
  {
   "cell_type": "code",
   "execution_count": 2,
   "id": "c97c96ac-0706-42af-897e-56bcb4f3d2bc",
   "metadata": {},
   "outputs": [
    {
     "name": "stdout",
     "output_type": "stream",
     "text": [
      "Animal makes sound\n",
      "Dog barks\n"
     ]
    }
   ],
   "source": [
    "class Animal:\n",
    "    def sound(self):\n",
    "        print(\"Animal makes sound\")\n",
    "\n",
    "class Dog(Animal):\n",
    "    def bark(self):\n",
    "        print(\"Dog barks\")\n",
    "\n",
    "d = Dog()\n",
    "d.sound()\n",
    "d.bark()\n"
   ]
  },
  {
   "cell_type": "raw",
   "id": "6fb7c215-4d9d-4e74-9d2e-d87a1aa0e85b",
   "metadata": {},
   "source": [
    "Python Multi-Level inheritance\n",
    "Multi-Level inheritance is possible in python like other object-oriented languages. Multi-level inheritance is archived when a derived class inherits another derived class. There is no limit on the number of levels up to which, the multi-level inheritance is archived in python.\n",
    "\n"
   ]
  },
  {
   "cell_type": "code",
   "execution_count": 9,
   "id": "5452805f-e6a2-4c41-baec-099e45b7cb4b",
   "metadata": {},
   "outputs": [
    {
     "name": "stdout",
     "output_type": "stream",
     "text": [
      "dog barking\n",
      "Animal Speaking\n",
      "Eating bread...\n"
     ]
    }
   ],
   "source": [
    "class Animal:  \n",
    "    def speak(self):  \n",
    "        print(\"Animal Speaking\")  \n",
    "#The child class Dog inherits the base class Animal  \n",
    "class Dog(Animal):  \n",
    "    def bark(self):  \n",
    "        print(\"dog barking\")  \n",
    "#The child class Dogchild inherits another child class Dog  \n",
    "class DogChild(Dog):  \n",
    "    def eat(self):  \n",
    "        print(\"Eating bread...\")  \n",
    "d = DogChild()  \n",
    "d.bark()  \n",
    "d.speak()  \n",
    "d.eat()  "
   ]
  },
  {
   "cell_type": "raw",
   "id": "2f69ca49-125e-483b-82fa-2f6d8f111628",
   "metadata": {},
   "source": [
    "Python Multiple inheritance\n",
    "Python provides us the flexibility to inherit multiple base classes in the child class.\n",
    "\n",
    "Python Inheritance\n",
    "class Base1:  \n",
    "    <class-suite>  \n",
    "  \n",
    "class Base2:  \n",
    "    <class-suite>  \n",
    ".  \n",
    ".  \n",
    ".  \n",
    "class BaseN:  \n",
    "    <class-suite>  \n",
    "  \n",
    "class Derived(Base1, Base2, ...... BaseN):  \n",
    "    <class-suite>  "
   ]
  },
  {
   "cell_type": "code",
   "execution_count": 10,
   "id": "da424eaa-2f08-4f87-8759-945374c5043b",
   "metadata": {},
   "outputs": [
    {
     "name": "stdout",
     "output_type": "stream",
     "text": [
      "30\n",
      "200\n",
      "0.5\n"
     ]
    }
   ],
   "source": [
    "class Calculation1:  \n",
    "    def Summation(self,a,b):  \n",
    "        return a+b;  \n",
    "class Calculation2:  \n",
    "    def Multiplication(self,a,b):  \n",
    "        return a*b;  \n",
    "class Derived(Calculation1,Calculation2):  \n",
    "    def Divide(self,a,b):  \n",
    "        return a/b;  \n",
    "d = Derived()  \n",
    "print(d.Summation(10,20))  \n",
    "print(d.Multiplication(10,20))  \n",
    "print(d.Divide(10,20))  "
   ]
  },
  {
   "cell_type": "raw",
   "id": "a6d8453d-1a46-4034-bd92-e540783014fe",
   "metadata": {},
   "source": [
    ". Polymorphism\n",
    "Same function or method behaves differently based on the object or context.\n",
    "\n",
    "Can be achieved via method overloading (limited support in Python) or method overriding."
   ]
  },
  {
   "cell_type": "code",
   "execution_count": 7,
   "id": "63d1b721-cac0-4508-b189-4970f0560edd",
   "metadata": {},
   "outputs": [
    {
     "name": "stdout",
     "output_type": "stream",
     "text": [
      "Some generic sound\n",
      "Meow\n"
     ]
    }
   ],
   "source": [
    "class Animal:\n",
    "    def sound(self):\n",
    "        print(\"Some generic sound\")\n",
    "\n",
    "class Cat(Animal):\n",
    "    def sound(self):\n",
    "        print(\"Meow\")\n",
    "\n",
    "a = Animal()\n",
    "c = Cat()\n",
    "a.sound()\n",
    "c.sound()\n"
   ]
  },
  {
   "cell_type": "raw",
   "id": "32bf12d0-c00c-4188-9c34-52b355203207",
   "metadata": {},
   "source": [
    "Additional Concepts:\n",
    "🔁 Abstraction (Optional 5th concept)\n",
    "Hiding complex implementation and showing only necessary details\n",
    "Abstraction is one of the core principles of object-oriented programming (OOP) in Python. This way developers hide unnecessary implementation details and expose only the relevant functionalities. For example, users of Tpoint Tech may find the content easy to understand, but they are unaware of the processes involved in gathering, organizing, and publishing it.\n",
    "\n",
    "In Python, data abstraction can be achieved with the help of the abstract classes and methods from the abc module.\n",
    "\n",
    "\n",
    "Importance of Abstraction in Python\n",
    "Abstraction allows programmers to hide complex implementation details while displaying the users only the essential data and functions. Data abstraction helps making it easier in order to design modular as well as properly structured code. It also helps simplifying the understanding and maintenance of the program, promoting the reusability of code and improving the developer collaboration."
   ]
  },
  {
   "cell_type": "code",
   "execution_count": 2,
   "id": "ec53de4a-9faa-4469-8db4-ec0210f95b46",
   "metadata": {},
   "outputs": [
    {
     "name": "stdout",
     "output_type": "stream",
     "text": [
      "78.5\n"
     ]
    }
   ],
   "source": [
    "from abc import ABC, abstractmethod\n",
    "\n",
    "class Shape(ABC):\n",
    "    @abstractmethod\n",
    "    def area(self):\n",
    "        pass\n",
    "\n",
    "class Circle(Shape):\n",
    "    def area(self):\n",
    "        return 3.14 * 5 * 5\n",
    "\n",
    "c = Circle()\n",
    "print(c.area())\n"
   ]
  },
  {
   "cell_type": "code",
   "execution_count": 10,
   "id": "a794c7b5-ae1b-44a6-811d-40e056137d21",
   "metadata": {},
   "outputs": [
    {
     "name": "stdout",
     "output_type": "stream",
     "text": [
      "Megha is an Employee\n",
      "Salary: 50000\n",
      "Megha is working...\n",
      "----------------------\n",
      "Sana is an Employee\n",
      "Salary: 70000\n",
      "Sana is coding in Python\n"
     ]
    }
   ],
   "source": [
    "from abc import ABC, abstractmethod  # For abstraction\n",
    "\n",
    "# ✅ Abstraction\n",
    "class Person(ABC):\n",
    "    def __init__(self, name):\n",
    "        self.name = name\n",
    "\n",
    "    @abstractmethod\n",
    "    def show_role(self):\n",
    "        pass\n",
    "\n",
    "\n",
    "# ✅ Base class (used for Inheritance)\n",
    "class Employee(Person):\n",
    "    def __init__(self, name, salary):\n",
    "        super().__init__(name)\n",
    "        self.__salary = salary   # ✅ Encapsulation (private attribute)\n",
    "\n",
    "    def get_salary(self):       # Getter method\n",
    "        return self.__salary\n",
    "\n",
    "    def show_role(self):        # ✅ Abstraction method implementation\n",
    "        print(f\"{self.name} is an Employee\")\n",
    "\n",
    "    def work(self):             # Base method to be overridden\n",
    "        print(f\"{self.name} is working...\")\n",
    "\n",
    "\n",
    "# ✅ Child class (Inherits Employee and overrides method)\n",
    "class Developer(Employee):\n",
    "    def __init__(self, name, salary, language):\n",
    "        super().__init__(name, salary)\n",
    "        self.language = language\n",
    "\n",
    "    # ✅ Polymorphism (method overriding)\n",
    "    def work(self):\n",
    "        print(f\"{self.name} is coding in {self.language}\")\n",
    "\n",
    "\n",
    "# ✅ Creating Objects\n",
    "e1 = Employee(\"Megha\", 50000)\n",
    "d1 = Developer(\"Sana\", 70000, \"Python\")\n",
    "\n",
    "# ✅ Access methods and attributes\n",
    "e1.show_role()\n",
    "print(\"Salary:\", e1.get_salary())\n",
    "e1.work()\n",
    "\n",
    "print(\"----------------------\")\n",
    "\n",
    "d1.show_role()\n",
    "print(\"Salary:\", d1.get_salary())\n",
    "d1.work()\n"
   ]
  },
  {
   "cell_type": "code",
   "execution_count": 1,
   "id": "e6d20f46-f1a0-46c6-859b-06dfc8411b3c",
   "metadata": {},
   "outputs": [
    {
     "name": "stdout",
     "output_type": "stream",
     "text": [
      "Original sentence: 'Python is fun'\n",
      "Sentence with words reversed: 'fun is Python'\n",
      "Original sentence: 'Hello world from Python'\n",
      "Sentence with words reversed: 'Python from world Hello'\n"
     ]
    }
   ],
   "source": [
    "def reverse_words(sentence: str) -> str:\n",
    "    \"\"\"\n",
    "    Reverses the order of words in a sentence, keeping word characters intact.\n",
    "    \"\"\"\n",
    "    # 1. Split the sentence into a list of words\n",
    "    words = sentence.split(' ')\n",
    "\n",
    "    # 2. Reverse the list of words\n",
    "    # One way: words.reverse()\n",
    "    # Another way (creates new list): reversed_words = words[::-1]\n",
    "    # Another way: reversed_words = list(reversed(words))\n",
    "    words.reverse() # Modifies the list in place\n",
    "\n",
    "    # 3. Join the words back into a sentence\n",
    "    reversed_sentence = ' '.join(words)\n",
    "    return reversed_sentence\n",
    "\n",
    "# Example Usage:\n",
    "text = \"Python is fun\"\n",
    "reversed_text = reverse_words(text)\n",
    "print(f\"Original sentence: '{text}'\")\n",
    "print(f\"Sentence with words reversed: '{reversed_text}'\")\n",
    "\n",
    "text2 = \"Hello world from Python\"\n",
    "reversed_text2 = reverse_words(text2)\n",
    "print(f\"Original sentence: '{text2}'\")\n",
    "print(f\"Sentence with words reversed: '{reversed_text2}'\")\n"
   ]
  },
  {
   "cell_type": "raw",
   "id": "5fcc9602-437d-4f10-9603-984a6817a476",
   "metadata": {},
   "source": [
    "Problem: Write a Python function called filter_numbers that takes a list of integers as input. The function should return a new list containing only the numbers from the input list that are both positive and even.\n",
    "\n",
    "\n",
    "Explanation:\n",
    "The filter_numbers function iterates through each number in the input numbers list. An if condition checks two criteria: number > 0 (positive) and number % 2 == 0 (even). If both are true, the number is added to filtered_list. Finally, this new list is returned.\n"
   ]
  },
  {
   "cell_type": "code",
   "execution_count": 1,
   "id": "32d00a87-a48b-40d7-b404-2087ed67123a",
   "metadata": {},
   "outputs": [
    {
     "name": "stdout",
     "output_type": "stream",
     "text": [
      "Original list: [-2, 0, 1, 4, 7, 10, 15, 20]\n",
      "Filtered list (positive and even): [4, 10, 20]\n"
     ]
    }
   ],
   "source": [
    "def filter_numbers(numbers: list) -> list:\n",
    "    \"\"\"\n",
    "    Filters a list of integers to return only those that are positive and even.\n",
    "    \"\"\"\n",
    "    filtered_list = []\n",
    "    for number in numbers:\n",
    "        # Check if the number is positive AND even\n",
    "        if number > 0 and number % 2 == 0:\n",
    "            filtered_list.append(number)\n",
    "    return filtered_list\n",
    "\n",
    "# Example Usage:\n",
    "my_list = [-2, 0, 1, 4, 7, 10, 15, 20]\n",
    "result = filter_numbers(my_list)\n",
    "print(f\"Original list: {my_list}\")\n",
    "print(f\"Filtered list (positive and even): {result}\")\n"
   ]
  }
 ],
 "metadata": {
  "kernelspec": {
   "display_name": "Python 3 (ipykernel)",
   "language": "python",
   "name": "python3"
  },
  "language_info": {
   "codemirror_mode": {
    "name": "ipython",
    "version": 3
   },
   "file_extension": ".py",
   "mimetype": "text/x-python",
   "name": "python",
   "nbconvert_exporter": "python",
   "pygments_lexer": "ipython3",
   "version": "3.12.7"
  }
 },
 "nbformat": 4,
 "nbformat_minor": 5
}
