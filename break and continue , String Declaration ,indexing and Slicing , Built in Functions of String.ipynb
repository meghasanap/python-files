{
 "cells": [
  {
   "cell_type": "markdown",
   "id": "77719115-588e-4a36-a8b2-356ca94bcd94",
   "metadata": {},
   "source": [
    "break and continue , String Declaration ,indexing and Slicing , Built in Functions of String"
   ]
  },
  {
   "cell_type": "markdown",
   "id": "061be079-f3a7-4a38-8e9a-874d5ebec44f",
   "metadata": {},
   "source": [
    "break and continue in Python\n",
    "Both are control statements used inside loops.\n",
    "\n",
    "break:\n",
    "Purpose: Exit the loop immediately.\n",
    "\n",
    "Usage: When you want to stop the loop based on some condition.\n",
    "break → exits the loop immediately."
   ]
  },
  {
   "cell_type": "code",
   "execution_count": 7,
   "id": "dc39010d-c115-4943-aeba-700cf08a6c8e",
   "metadata": {},
   "outputs": [
    {
     "name": "stdout",
     "output_type": "stream",
     "text": [
      "0\n",
      "1\n",
      "2\n"
     ]
    }
   ],
   "source": [
    "for i in range(5):\n",
    "    if i >= 3:\n",
    "        break\n",
    "    print(i)\n"
   ]
  },
  {
   "cell_type": "code",
   "execution_count": 8,
   "id": "180a2499-dfbf-4062-b6c4-5a06da54f5b6",
   "metadata": {},
   "outputs": [
    {
     "name": "stdin",
     "output_type": "stream",
     "text": [
      "Enter a positive number (or negative to stop):  5\n"
     ]
    },
    {
     "name": "stdout",
     "output_type": "stream",
     "text": [
      "You entered: 5\n"
     ]
    },
    {
     "name": "stdin",
     "output_type": "stream",
     "text": [
      "Enter a positive number (or negative to stop):  -8\n"
     ]
    },
    {
     "name": "stdout",
     "output_type": "stream",
     "text": [
      "Negative number entered. Stopping input.\n"
     ]
    }
   ],
   "source": [
    "while True:\n",
    "    num = int(input(\"Enter a positive number (or negative to stop): \"))\n",
    "    if num < 0:\n",
    "        print(\"Negative number entered. Stopping input.\")\n",
    "        break\n",
    "    print(\"You entered:\", num)\n"
   ]
  },
  {
   "cell_type": "markdown",
   "id": "ee5b6e9d-9342-4915-8aa2-5ae8d1fbb1f2",
   "metadata": {},
   "source": [
    "continue:\n",
    "Purpose: Skip the current iteration and continue with the next one.\n",
    "\n",
    "Usage: When you want to ignore some values but continue looping.\n",
    "continue → skips current loop iteration."
   ]
  },
  {
   "cell_type": "code",
   "execution_count": 9,
   "id": "c2eebcb4-4e2c-40a3-a6fc-36306f4ba7ff",
   "metadata": {},
   "outputs": [
    {
     "name": "stdout",
     "output_type": "stream",
     "text": [
      "1\n",
      "2\n",
      "4\n"
     ]
    }
   ],
   "source": [
    "for i in range(1,5):\n",
    "    if i == 3:\n",
    "        continue\n",
    "    print(i)\n"
   ]
  },
  {
   "cell_type": "code",
   "execution_count": 10,
   "id": "f77b40f1-9585-41c7-9173-f1b015619124",
   "metadata": {},
   "outputs": [
    {
     "name": "stdout",
     "output_type": "stream",
     "text": [
      "2\n",
      "4\n",
      "6\n",
      "8\n",
      "10\n",
      "12\n",
      "14\n",
      "16\n",
      "18\n",
      "20\n"
     ]
    }
   ],
   "source": [
    "#kip even numbers and print only odd numbers from 1 to 20.\n",
    "\n",
    "for i in range(1, 21):\n",
    "    if i % 2 != 0:\n",
    "        continue\n",
    "    print(i)\n"
   ]
  },
  {
   "cell_type": "markdown",
   "id": "36be4066-f872-4eee-bf73-48c95c130e20",
   "metadata": {},
   "source": [
    "String Declaration\n",
    "A string is a sequence of characters.\n",
    "\n",
    "In Python, strings can be declared using single, double, or triple quotes\n",
    "String Declaration\n",
    "Strings are written in ' ', \" \", or ''' '''.\n",
    "\n",
    "Strings are immutable."
   ]
  },
  {
   "cell_type": "code",
   "execution_count": 8,
   "id": "ee767626-e240-4f54-b5b1-e2ac02f14b62",
   "metadata": {},
   "outputs": [
    {
     "name": "stdout",
     "output_type": "stream",
     "text": [
      "Hello\n"
     ]
    }
   ],
   "source": [
    "str1 = 'Hello'\n",
    "str2 = \"World\"\n",
    "str3 = '''This is\n",
    "a multiline string'''\n",
    "print(str1)"
   ]
  },
  {
   "cell_type": "code",
   "execution_count": 12,
   "id": "313dd03b-c084-4157-9051-0fa7dddefb49",
   "metadata": {},
   "outputs": [
    {
     "name": "stdin",
     "output_type": "stream",
     "text": [
      "Enter your full name:  ri ya\n"
     ]
    },
    {
     "name": "stdout",
     "output_type": "stream",
     "text": [
      "Formatted Name: Ri Ya\n",
      "Number of letters: 5\n"
     ]
    }
   ],
   "source": [
    "#Program: Take user input, clean, and print stats\n",
    "\n",
    "name = input(\"Enter your full name: \")\n",
    "  \n",
    "# Remove extra spaces\n",
    "clean_name = name.strip()\n",
    "\n",
    "# Convert to title case (first letter capital)\n",
    "formatted_name = clean_name.title()\n",
    "\n",
    "# Count letters excluding spaces\n",
    "char_count = len(clean_name.replace(\" \", \" \"))\n",
    "\n",
    "print(\"Formatted Name:\", formatted_name)\n",
    "print(\"Number of letters:\", char_count)\n"
   ]
  },
  {
   "cell_type": "raw",
   "id": "01b8db9e-d07c-4780-b3b8-9ee6e4648b69",
   "metadata": {},
   "source": [
    "Indexing and Slicing\n",
    "Indexing:\n",
    "Each character in a string has an index (position).\n",
    "Index starts from 0.\n",
    "positive index: starts from 0 (s[0])\n",
    "\n",
    "Negative index: starts from -1 (s[-1])"
   ]
  },
  {
   "cell_type": "code",
   "execution_count": 14,
   "id": "508a275e-a06a-457e-ba24-6f7011f7cc76",
   "metadata": {},
   "outputs": [
    {
     "name": "stdout",
     "output_type": "stream",
     "text": [
      "P\n",
      "g\n"
     ]
    }
   ],
   "source": [
    "text = \"Python is coding\"\n",
    "print(text[0])  # Output: P\n",
    "print(text[-1]) # Output: n (negative index means from end)\n"
   ]
  },
  {
   "cell_type": "markdown",
   "id": "ebbe09a2-165d-41ad-b7be-a1f777a081af",
   "metadata": {},
   "source": [
    "# Assistant\n",
    "The error occurs because you're trying to access an element of an integer using indexing, but integers are not subscriptable (meaning you can't access individual elements like you would with a string, list, or tuple).\n",
    "\n",
    "It looks like you intended to work with a string, not an integer. The comments suggest you're expecting to print characters from a string.\n",
    "\n",
    "Would you like me to provide the corrected code?"
   ]
  },
  {
   "cell_type": "markdown",
   "id": "e5ec63be-855e-49d8-82ce-e280ce11cd3d",
   "metadata": {},
   "source": [
    "Slicing:\n",
    "Used to get a part (substring) of the string.\n",
    "\n",
    "Syntax: string[start:end:step]\n",
    "Syntax: string[start:end:step]\n",
    "\n",
    "Omitting start/end uses full string.\n",
    "\n",
    "Example:\n",
    "\n",
    "s[1:4] → characters from index 1 to 3\n",
    "\n",
    "s[::-1] → reverse string"
   ]
  },
  {
   "cell_type": "code",
   "execution_count": 15,
   "id": "2be7977d-6bfc-4ecc-913c-187b7c88dd97",
   "metadata": {},
   "outputs": [
    {
     "name": "stdout",
     "output_type": "stream",
     "text": [
      "o\n",
      "Pht\n",
      "ytnohtyP\n"
     ]
    }
   ],
   "source": [
    "text = \"Pythonty\"\n",
    "print(text[4])   # Output: Pyth\n",
    "print(text[::3])   # Output: Pto (step=2)\n",
    "print(text[::-1])  # Output: nohtyP (reverse string)\n"
   ]
  },
  {
   "cell_type": "code",
   "execution_count": null,
   "id": "9cbbaaa4-8a6d-4195-b672-1e6744f178bf",
   "metadata": {},
   "outputs": [],
   "source": [
    "tring Declaration, Indexing & Slicing - Medium Program\n",
    "Problem: Take a string and print:\n",
    "First 3 characters\n",
    "\n",
    "Last 3 characters\n",
    "\n",
    "The string reversed"
   ]
  },
  {
   "cell_type": "code",
   "execution_count": 65,
   "id": "930e7a69-4232-42da-9d92-36cbfcf5705c",
   "metadata": {},
   "outputs": [
    {
     "name": "stdin",
     "output_type": "stream",
     "text": [
      "Enter a string:  hdgu\n"
     ]
    },
    {
     "name": "stdout",
     "output_type": "stream",
     "text": [
      "First 3 characters: hdg\n",
      "Last 3 characters: d\n",
      "Reversed string: ugdh\n"
     ]
    }
   ],
   "source": [
    "s = input(\"Enter a string: \")\n",
    "\n",
    "# String Declaration happens when user enters input\n",
    "print(\"First 3 characters:\", s[:3])\n",
    "print(\"Last 3 characters:\", s[-3:])\n",
    "print(\"Reversed string:\", s[::-1])\n"
   ]
  },
  {
   "cell_type": "raw",
   "id": "a3c2df81-eb9b-4f8a-afad-7879fb02fecc",
   "metadata": {},
   "source": [
    "Indexing and Slicing — Medium Program\n",
    "✅ Program: Slice username from email"
   ]
  },
  {
   "cell_type": "code",
   "execution_count": 5,
   "id": "00b86d6f-485a-47ae-98c6-3ae37bd03b47",
   "metadata": {},
   "outputs": [
    {
     "name": "stdin",
     "output_type": "stream",
     "text": [
      "Enter your email address:  mbbn\n"
     ]
    },
    {
     "name": "stdout",
     "output_type": "stream",
     "text": [
      "Invalid email format.\n"
     ]
    }
   ],
   "source": [
    "email = input(\"Enter your email address: \")  # e.g. user123@gmail.com\n",
    "\n",
    "# Extract username and domain using slicing\n",
    "at_index = email.find('@')\n",
    "\n",
    "if at_index != -1:\n",
    "    username = email[:at_index]\n",
    "    domain = email[at_index+1:]\n",
    "    print(\"Username:\", username)\n",
    "    print(\"Domain:\", domain)\n",
    "else:\n",
    "    print(\"Invalid email format.\")\n"
   ]
  },
  {
   "cell_type": "raw",
   "id": "553bf61c-efc9-4112-a52e-a9d1517bfe7b",
   "metadata": {},
   "source": [
    "Built-in Functions of String\n",
    "Python provides many built-in string functions:\n",
    "\n",
    "Function\tDescription\tExample\n",
    "len()\tLength of string\tlen(\"Python\") → 6\n",
    "lower()\tConvert to lowercase\t\"Python\".lower() → 'python'\n",
    "upper()\tConvert to uppercase\t\"Python\".upper() → 'PYTHON'\n",
    "strip()\tRemove whitespace\t\" hello \".strip() → 'hello'\n",
    "replace()\tReplace substring\t\"hello\".replace(\"l\", \"x\") → 'hexxo'\n",
    "find()\tFind substring index\t\"hello\".find(\"e\") → 1\n",
    "split()\tSplit string into list\t\"a,b,c\".split(\",\") → ['a','b','c']\n",
    "join()\tJoin list into string\t\",\".join(['a','b']) → 'a,b'\n",
    "startswith()\tCheck if starts with\t\"hello\".startswith(\"he\") → True\n",
    "endswith()\tCheck if ends with\t\"hello\".endswith(\"o\") → True\n",
    "\n",
    "\n",
    "len(s) → length of string\n",
    "\n",
    "s.lower() / s.upper() → case conversion\n",
    "\n",
    "s.strip() → remove spaces\n",
    "\n",
    "s.replace(old, new) → replace substring\n",
    "\n",
    "s.find(sub) → find index of substring\n",
    "\n",
    "s.split(delimiter) → split into list\n",
    "\n",
    "delimiter.join(list) → join list into string\n",
    "\n",
    "✅ Summary table:\n",
    "\n",
    "Topic\tSummary\n",
    "break\tExits loop completely\n",
    "continue\tSkips current iteration\n",
    "String Declaration\t'...', \"...\", '''...'''\n",
    "Indexing\tstr[0], str[-1]\n",
    "Slicing\tstr[start:end:step]\n",
    "Built-in Functions\tlen(), lower(), replace(), find(), etc."
   ]
  },
  {
   "cell_type": "code",
   "execution_count": null,
   "id": "92c4eb62-9b39-4e19-8614-d5f4942a6f69",
   "metadata": {},
   "outputs": [
    {
     "name": "stdin",
     "output_type": "stream",
     "text": [
      "Enter a string:  megha sanap\n"
     ]
    },
    {
     "name": "stdout",
     "output_type": "stream",
     "text": [
      "Length of string: 11\n",
      "Lowercase: megha sanap\n",
      "Uppercase: MEGHA SANAP\n",
      "Without spaces: megha sanap\n",
      "Replace spaces with hyphens: megha-sanap\n"
     ]
    }
   ],
   "source": [
    "text = input(\"Enter a string: \")\n",
    "\n",
    "print(\"Length of string:\", len(text))\n",
    "print(\"Lowercase:\", text.lower())\n",
    "print(\"Uppercase:\", text.upper())\n",
    "print(\"Without spaces:\", text.strip())\n",
    "print(\"Replace spaces with hyphens:\", text.replace(\" \", \"-\"))\n",
    "\n",
    "word = input(\"Enter word to find: \")\n",
    "position = text.find(word)\n",
    "if position != -1:\n",
    "    print(f\"'{word}' found at index {position}\")\n",
    "else:\n",
    "    print(f\"'{word}' not found\")\n"
   ]
  },
  {
   "cell_type": "code",
   "execution_count": 71,
   "id": "b9c80164-f86e-419b-b9f7-da4292e3ca36",
   "metadata": {},
   "outputs": [
    {
     "name": "stdin",
     "output_type": "stream",
     "text": [
      "Enter a sentence:  Yuit\n"
     ]
    },
    {
     "name": "stdout",
     "output_type": "stream",
     "text": [
      "Original: Yuit\n",
      "Uppercase: YUIT\n",
      "Lowercase: yuit\n",
      "Word count: 1\n",
      "Without punctuation: Yuit\n"
     ]
    }
   ],
   "source": [
    "sentence = input(\"Enter a sentence: \")\n",
    "\n",
    "# Count words\n",
    "word_list = sentence.split()\n",
    "word_count = len(word_list)\n",
    "\n",
    "# Replace punctuation\n",
    "cleaned = sentence.replace(\".\", \"\").replace(\",\", \"\")\n",
    "\n",
    "# Uppercase and lowercase\n",
    "print(\"Original:\", sentence)\n",
    "print(\"Uppercase:\", sentence.upper())\n",
    "print(\"Lowercase:\", sentence.lower())\n",
    "print(\"Word count:\", word_count)\n",
    "print(\"Without punctuation:\", cleaned)\n"
   ]
  },
  {
   "cell_type": "code",
   "execution_count": 52,
   "id": "709c524d-4831-408a-abc5-e77c17434f76",
   "metadata": {},
   "outputs": [
    {
     "name": "stdin",
     "output_type": "stream",
     "text": [
      "Enter your full name:  megha sanap\n"
     ]
    },
    {
     "name": "stdout",
     "output_type": "stream",
     "text": [
      "Formatted Name: Megha Sanap\n",
      "number of letters: 23\n"
     ]
    }
   ],
   "source": [
    "name = input('Enter your full name: ')\n",
    "  \n",
    "# Remove extra spaces\n",
    "clean_name = name.strip()\n",
    "\n",
    "# Convert to title case (first letter capital)\n",
    "formatted_name = clean_name.title()\n",
    "\n",
    "# Count letters excluding spaces\n",
    "char_count = len(clean_name.replace(\" \", \" \"))\n",
    "\n",
    "print(\"Formatted Name:\", formatted_name)\n",
    "print(\"number of letters:\", char_count)\n"
   ]
  }
 ],
 "metadata": {
  "kernelspec": {
   "display_name": "Python 3 (ipykernel)",
   "language": "python",
   "name": "python3"
  },
  "language_info": {
   "codemirror_mode": {
    "name": "ipython",
    "version": 3
   },
   "file_extension": ".py",
   "mimetype": "text/x-python",
   "name": "python",
   "nbconvert_exporter": "python",
   "pygments_lexer": "ipython3",
   "version": "3.12.7"
  }
 },
 "nbformat": 4,
 "nbformat_minor": 5
}
