{
 "cells": [
  {
   "cell_type": "raw",
   "id": "b14d861d-e0ea-4065-8b45-17846b8ad223",
   "metadata": {},
   "source": [
    "Exception Handling in Python – Full Explanation with Examples\n",
    "Exception handling in Python is a mechanism to handle runtime errors so the normal flow of the program is maintained.\n",
    "\n",
    "What is an Exception?\n",
    "An exception is an error that occurs during the execution of a program. When Python encounters an error, it raises an exception."
   ]
  },
  {
   "cell_type": "raw",
   "id": "21b54ab7-6ed9-4956-912e-455a6dff0434",
   "metadata": {},
   "source": [
    "Common Exceptions in Python:\n",
    "Exception\tDescription\n",
    "ZeroDivisionError\tDivision by zero\n",
    "ValueError\tInvalid value\n",
    "TypeError\tWrong data type\n",
    "IndexError\tInvalid index\n",
    "KeyError\tInvalid dictionary key\n",
    "FileNotFoundError\tFile not found\n",
    "NameError\tVariable not defined"
   ]
  },
  {
   "cell_type": "raw",
   "id": "d09179dd-1c76-4a71-9bda-9fff4b86e362",
   "metadata": {},
   "source": [
    "In Python, we catch exceptions and handle them using try and except code blocks. The try clause contains the code that can raise an exception, while the except clause contains the code lines that handle the exception. Let's see if we can access the index from the array, which is more than the array's length, and handle the resulting exception."
   ]
  },
  {
   "cell_type": "code",
   "execution_count": null,
   "id": "7863205f-5470-4cda-992e-088297736eae",
   "metadata": {},
   "outputs": [],
   "source": [
    "#Basic syntax\n",
    "try:\n",
    "    # Code that might raise an exception\n",
    "except ExceptionType:\n",
    "    # Code to handle the exception\n"
   ]
  },
  {
   "cell_type": "code",
   "execution_count": 1,
   "id": "756b9944-7687-4ac5-9d4a-5377e26e2335",
   "metadata": {},
   "outputs": [
    {
     "name": "stdout",
     "output_type": "stream",
     "text": [
      "Error: You can't divide by zero!\n"
     ]
    }
   ],
   "source": [
    "#Example 1: Handling Division by Zero\n",
    "try:\n",
    "    a = 10\n",
    "    b = 0\n",
    "    result = a / b\n",
    "    print(\"Result:\", result)\n",
    "except ZeroDivisionError:\n",
    "    print(\"Error: You can't divide by zero!\")\n",
    "\n"
   ]
  },
  {
   "cell_type": "code",
   "execution_count": 6,
   "id": "2940c7d0-929b-4c41-a336-46a82fe938dc",
   "metadata": {},
   "outputs": [
    {
     "name": "stdin",
     "output_type": "stream",
     "text": [
      "Enter a number:  290\n"
     ]
    }
   ],
   "source": [
    "## Example 2: Catching Multiple Exceptions\n",
    "try:\n",
    "    num = int(input(\"Enter a number: \"))\n",
    "    result = 10 / num\n",
    "except ValueError:\n",
    "    print(\"Error: Invalid input. Please enter a number.\")\n",
    "except ZeroDivisionError:\n",
    "    print(\"Error: Division by zero.\")\n"
   ]
  },
  {
   "cell_type": "markdown",
   "id": "d0e7a48c-1d2c-44bc-b9f3-816c5fab9b87",
   "metadata": {},
   "source": [
    "Using else and finally\n",
    "else: Runs if no exception occurs.\n",
    "\n",
    "finally: Always runs, whether exception occurs or not.\n",
    "\n",
    "python\n",
    "Copy\n",
    "Edit\n"
   ]
  },
  {
   "cell_type": "code",
   "execution_count": 9,
   "id": "60eafe05-4ef5-4d98-97dd-762dd42fb5ec",
   "metadata": {},
   "outputs": [
    {
     "name": "stdin",
     "output_type": "stream",
     "text": [
      "Enter a number:  a\n"
     ]
    },
    {
     "name": "stdout",
     "output_type": "stream",
     "text": [
      "Invalid input\n",
      "Program ends.\n"
     ]
    }
   ],
   "source": [
    "try:\n",
    "    x = int(input(\"Enter a number: \"))\n",
    "    print(\"Square is:\", x * x)\n",
    "except ValueError:\n",
    "    print(\"Invalid input\")\n",
    "else:\n",
    "    print(\"Successfully calculated square.\")\n",
    "finally:\n",
    "    print(\"Program ends.\")\n"
   ]
  },
  {
   "cell_type": "code",
   "execution_count": 10,
   "id": "b4168244-76f2-4891-a44c-c457867e3316",
   "metadata": {},
   "outputs": [
    {
     "name": "stdout",
     "output_type": "stream",
     "text": [
      "An error occurred: invalid literal for int() with base 10: 'abc'\n"
     ]
    }
   ],
   "source": [
    "#Example 3: Generic Exception Handling\n",
    "try:\n",
    "    a = int(\"abc\")\n",
    "except Exception as e:\n",
    "    print(\"An error occurred:\", e)\n"
   ]
  },
  {
   "cell_type": "code",
   "execution_count": 12,
   "id": "409cd149-ef3e-451e-b53b-0b8d1584205c",
   "metadata": {},
   "outputs": [
    {
     "ename": "ValueError",
     "evalue": "Negative values are not allowed",
     "output_type": "error",
     "traceback": [
      "\u001b[1;31m---------------------------------------------------------------------------\u001b[0m",
      "\u001b[1;31mValueError\u001b[0m                                Traceback (most recent call last)",
      "Cell \u001b[1;32mIn[12], line 5\u001b[0m\n\u001b[0;32m      3\u001b[0m x \u001b[38;5;241m=\u001b[39m \u001b[38;5;241m-\u001b[39m\u001b[38;5;241m5\u001b[39m\n\u001b[0;32m      4\u001b[0m \u001b[38;5;28;01mif\u001b[39;00m x \u001b[38;5;241m<\u001b[39m \u001b[38;5;241m0\u001b[39m:\n\u001b[1;32m----> 5\u001b[0m     \u001b[38;5;28;01mraise\u001b[39;00m \u001b[38;5;167;01mValueError\u001b[39;00m(\u001b[38;5;124m\"\u001b[39m\u001b[38;5;124mNegative values are not allowed\u001b[39m\u001b[38;5;124m\"\u001b[39m)\n",
      "\u001b[1;31mValueError\u001b[0m: Negative values are not allowed"
     ]
    }
   ],
   "source": [
    "#Raising Exceptions Manually\n",
    "#You can manually raise exceptions using raise.\n",
    "x = -5\n",
    "if x < 0:\n",
    "    raise ValueError(\"Negative values are not allowed\")\n"
   ]
  },
  {
   "cell_type": "raw",
   "id": "2711119e-72d3-4d2a-851c-fe46efb0f32f",
   "metadata": {},
   "source": [
    " Why Use Exception Handling?\n",
    "To prevent crashes\n",
    "\n",
    "To provide meaningful error messages\n",
    "\n",
    "To control flow of execution\n",
    "\n",
    "\n",
    "Summary:\n",
    "Keyword\tUse\n",
    "try\tWrite risky code\n",
    "except\tHandle exceptions\n",
    "else\tExecute if no exception\n",
    "finally\tAlways execute\n",
    "raise\tRaise exception manually\n",
    "\n"
   ]
  },
  {
   "cell_type": "raw",
   "id": "14d41ee8-741d-43e8-bd21-8e3b66fa607f",
   "metadata": {},
   "source": [
    " Exception Handling with Loops and Input\n",
    "🔁 Example: Input a Number Until It’s Correct"
   ]
  },
  {
   "cell_type": "code",
   "execution_count": null,
   "id": "4ca0604f-9f48-4bb7-aef3-04cf6d0c807e",
   "metadata": {},
   "outputs": [
    {
     "name": "stdin",
     "output_type": "stream",
     "text": [
      "Enter a number:  2.1\n"
     ]
    },
    {
     "name": "stdout",
     "output_type": "stream",
     "text": [
      "That's not a valid number. Try again.\n"
     ]
    }
   ],
   "source": [
    "while True:\n",
    "    try:\n",
    "        num = int(input(\"Enter a number: \"))\n",
    "        print(\"Square of the number:\", num * num)\n",
    "        break\n",
    "    except ValueError:\n",
    "        print(\"That's not a valid number. Try again.\")\n",
    "        \n"
   ]
  },
  {
   "cell_type": "code",
   "execution_count": 4,
   "id": "97bbb126-644c-41d7-9f17-5c277f46578d",
   "metadata": {},
   "outputs": [
    {
     "name": "stdin",
     "output_type": "stream",
     "text": [
      "Enter your age:  34\n"
     ]
    },
    {
     "name": "stdout",
     "output_type": "stream",
     "text": [
      "You are eligible.\n"
     ]
    }
   ],
   "source": [
    "#Custom Exception Example\n",
    "#Define and Raise Your Own Exception\n",
    "class AgeTooSmallError(Exception):\n",
    "    pass\n",
    "\n",
    "try:\n",
    "    age = int(input(\"Enter your age: \"))\n",
    "    if age < 18:\n",
    "        raise AgeTooSmallError(\"Age must be 18 or older.\")\n",
    "    print(\"You are eligible.\")\n",
    "except AgeTooSmallError as e:\n",
    "    print(\"Custom Exception:\", e)\n",
    "except ValueError:\n",
    "    print(\"Invalid input! Please enter a number.\")\n",
    "\n"
   ]
  },
  {
   "cell_type": "code",
   "execution_count": 2,
   "id": "22fb2e29-66be-40bc-8ddc-d88aa73357f8",
   "metadata": {},
   "outputs": [
    {
     "name": "stdout",
     "output_type": "stream",
     "text": [
      "File not found.\n",
      "This block always executes.\n"
     ]
    }
   ],
   "source": [
    "try:\n",
    "    f = open(\"file.txt\", \"r\")\n",
    "    print(f.read())\n",
    "except FileNotFoundError:\n",
    "    print(\"File not found.\")\n",
    "finally:\n",
    "    print(\"This block always executes.\")\n"
   ]
  }
 ],
 "metadata": {
  "kernelspec": {
   "display_name": "Python 3 (ipykernel)",
   "language": "python",
   "name": "python3"
  },
  "language_info": {
   "codemirror_mode": {
    "name": "ipython",
    "version": 3
   },
   "file_extension": ".py",
   "mimetype": "text/x-python",
   "name": "python",
   "nbconvert_exporter": "python",
   "pygments_lexer": "ipython3",
   "version": "3.12.7"
  }
 },
 "nbformat": 4,
 "nbformat_minor": 5
}
