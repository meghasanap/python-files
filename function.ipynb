{
 "cells": [
  {
   "cell_type": "markdown",
   "id": "0e781fe4-308f-45c2-817c-c43efd7dbc8d",
   "metadata": {},
   "source": [
    "### What is a Function?\n",
    "A function is a block of code that performs a specific task.\n",
    "\n",
    "It helps to reuse code and make programs cleaner.\n",
    "\n",
    "You can call the function whenever you need to perform that task.\n",
    "\n",
    "Why use functions?\n",
    "Code reuse\n",
    "\n",
    "Code is easier to read and maintain\n",
    "\n",
    "Avoid repetition\n",
    "\n",
    "Easier debugging"
   ]
  },
  {
   "cell_type": "raw",
   "id": "1d4e05f0-7e5f-4e01-ba0f-e1065a609877",
   "metadata": {},
   "source": [
    "Types of Functions in Python\n",
    "1️⃣ Built-in Functions — Already provided by Python\n",
    "Examples: print(), len(), type(), sum(), input(), etc.\n",
    "\n",
    "2️⃣ User-Defined Functions — Functions you create"
   ]
  },
  {
   "cell_type": "raw",
   "id": "21e083a6-e105-4ed5-ac96-b1f32749f811",
   "metadata": {},
   "source": [
    " Defining a Function\n",
    " def → keyword to define function\n",
    "parameters → optional input values\n",
    "return → optional output value"
   ]
  },
  {
   "cell_type": "raw",
   "id": "fa7bf757-853a-4ade-90b1-ea07c031e4d2",
   "metadata": {},
   "source": [
    "Function: Block of code that performs a specific task.\n",
    "\n",
    "Defined using: def keyword.\n",
    "\n",
    "Called using: Function name followed by ().\n",
    "\n",
    "Types:\n",
    "\n",
    "Built-in functions (print(), len(), input())\n",
    "\n",
    "User-defined functions (functions we create)"
   ]
  },
  {
   "cell_type": "raw",
   "id": "dee9cae6-65fd-4b01-b374-f5b32ad62da7",
   "metadata": {},
   "source": [
    "| Term       | Meaning                         |\n",
    "| ---------- | ------------------------------- |\n",
    "| `def`      | Used to define a function       |\n",
    "| Parameters | Inputs to function              |\n",
    "| Return     | Outputs value (optional)        |\n",
    "| Call       | Use function\\_name() to execute |\n"
   ]
  },
  {
   "cell_type": "code",
   "execution_count": 2,
   "id": "17118040-2d58-4d53-86ca-35bb9a8197d4",
   "metadata": {},
   "outputs": [],
   "source": [
    "def function_name(parameters):\n",
    "    # code block\n",
    "    return result  # (optional)\n"
   ]
  },
  {
   "cell_type": "code",
   "execution_count": 1,
   "id": "b95fce3f-ee62-4e5d-b4da-3375e3c214ec",
   "metadata": {},
   "outputs": [
    {
     "name": "stdout",
     "output_type": "stream",
     "text": [
      "Hello, welcome to Python!\n"
     ]
    }
   ],
   "source": [
    "#Example 1: Simple Function without parameters\n",
    "def greet():\n",
    "    print(\"Hello, welcome to Python!\")\n",
    "\n",
    "greet()  # calling the function\n"
   ]
  },
  {
   "cell_type": "code",
   "execution_count": 2,
   "id": "cfe02713-ba30-4695-92d2-96ac4e865589",
   "metadata": {},
   "outputs": [
    {
     "name": "stdout",
     "output_type": "stream",
     "text": [
      "Sum is: 10\n"
     ]
    }
   ],
   "source": [
    "#Example 2: Function with parameters\n",
    "def add(a, b):\n",
    "    sum = a + b\n",
    "    print(\"Sum is:\", sum)\n",
    "\n",
    "add(5, 5)\n",
    "\n"
   ]
  },
  {
   "cell_type": "code",
   "execution_count": 4,
   "id": "1e0f8df0-14ff-40f4-b05e-635011fd4ea7",
   "metadata": {},
   "outputs": [
    {
     "name": "stdout",
     "output_type": "stream",
     "text": [
      "Multiplication is: 20\n"
     ]
    }
   ],
   "source": [
    "#Function with return value\n",
    "def multiply(a, b):\n",
    "    return a * b\n",
    "\n",
    "result = multiply(4, 5)\n",
    "print(\"Multiplication is:\", result)\n"
   ]
  },
  {
   "cell_type": "markdown",
   "id": "1a7b6c88-64e6-4b18-88d5-b476fea88560",
   "metadata": {},
   "source": [
    "Advantages of using Functions\n",
    "| Advantage   | Explanation                    |\n",
    "| ----------- | ------------------------------ |\n",
    "| Reuse       | Call function many times       |\n",
    "| Clean code  | Code is organized              |\n",
    "| Easy change | Change function logic once     |\n",
    "| Testing     | Easier to test small functions |\n"
   ]
  },
  {
   "cell_type": "raw",
   "id": "4cfc3f2f-8ee0-4f13-a54c-f42b1f0a4062",
   "metadata": {},
   "source": [
    "Program: Calculator using Functions\n",
    "We will create a calculator that can perform:\n",
    "\n",
    "Addition\n",
    "\n",
    "Subtraction\n",
    "\n",
    "Multiplication\n",
    "\n",
    "Division"
   ]
  },
  {
   "cell_type": "code",
   "execution_count": 4,
   "id": "ae3b93da-9e0e-4a3f-abb4-9b55b5562edd",
   "metadata": {},
   "outputs": [
    {
     "name": "stdout",
     "output_type": "stream",
     "text": [
      "Simple Calculator\n"
     ]
    },
    {
     "name": "stdin",
     "output_type": "stream",
     "text": [
      "Enter first number:  45\n",
      "Enter second number:  34\n"
     ]
    },
    {
     "name": "stdout",
     "output_type": "stream",
     "text": [
      "Choose operation:\n",
      "1. Add\n",
      "2. Subtract\n",
      "3. Multiply\n",
      "4. Divide\n"
     ]
    },
    {
     "name": "stdin",
     "output_type": "stream",
     "text": [
      "Enter choice (1/2/3/4):  3\n"
     ]
    },
    {
     "name": "stdout",
     "output_type": "stream",
     "text": [
      "Result: 1530.0\n"
     ]
    }
   ],
   "source": [
    "# Function for addition\n",
    "def add(a, b):\n",
    "    return a + b\n",
    "\n",
    "# Function for subtraction\n",
    "def subtract(a, b):\n",
    "    return a - b\n",
    "\n",
    "# Function for multiplication\n",
    "def multiply(a, b):\n",
    "    return a * b\n",
    "\n",
    "# Function for division\n",
    "def divide(a, b):\n",
    "    if b == 0:\n",
    "        return \"Division by zero is not allowed.\"\n",
    "    else:\n",
    "        return a / b\n",
    "\n",
    "# Main program\n",
    "print(\"Simple Calculator\")\n",
    "\n",
    "num1 = float(input(\"Enter first number: \"))\n",
    "num2 = float(input(\"Enter second number: \"))\n",
    "\n",
    "print(\"Choose operation:\")\n",
    "print(\"1. Add\")\n",
    "print(\"2. Subtract\")\n",
    "print(\"3. Multiply\")\n",
    "print(\"4. Divide\")\n",
    "\n",
    "choice = input(\"Enter choice (1/2/3/4): \")\n",
    "\n",
    "if choice == '1':\n",
    "    print(\"Result:\", add(num1, num2))\n",
    "elif choice == '2':\n",
    "    print(\"Result:\", subtract(num1, num2))\n",
    "elif choice == '3':\n",
    "    print(\"Result:\", multiply(num1, num2))\n",
    "elif choice == '4':\n",
    "    print(\"Result:\", divide(num1, num2))\n",
    "else:\n",
    "    print(\"Invalid choice!\")\n"
   ]
  },
  {
   "cell_type": "raw",
   "id": "30ed8aaa-7963-47c8-a209-79945f84561f",
   "metadata": {},
   "source": [
    " Program: Palindrome Checker using Function\n",
    "Problem Statement:\n",
    "A string is a palindrome if it reads the same backward as forward.\n",
    "\n",
    "Example:\n",
    "\n",
    "\"madam\" → palindrome\n",
    "\n",
    "\"python\" → not a palindrome\n",
    "\n",
    "We will write a function to check whether a string is palindrome or not."
   ]
  },
  {
   "cell_type": "code",
   "execution_count": 5,
   "id": "99322598-4d52-464d-9be5-fa111366f4c0",
   "metadata": {},
   "outputs": [
    {
     "name": "stdin",
     "output_type": "stream",
     "text": [
      "Enter a string:  1\n"
     ]
    },
    {
     "name": "stdout",
     "output_type": "stream",
     "text": [
      "The string is a palindrome.\n"
     ]
    }
   ],
   "source": [
    "# Define function to check palindrome\n",
    "def is_palindrome(text):\n",
    "    # Remove spaces and convert to lowercase for proper checking\n",
    "    text = text.replace(\" \", \"\").lower()\n",
    "    \n",
    "    # Compare original with reversed string\n",
    "    if text == text[::-1]:\n",
    "        return True\n",
    "    else:\n",
    "        return False\n",
    "\n",
    "# Main Program\n",
    "string = input(\"Enter a string: \")\n",
    "\n",
    "if is_palindrome(string):\n",
    "    print(\"The string is a palindrome.\")\n",
    "else:\n",
    "    print(\"The string is not a palindrome.\")\n"
   ]
  },
  {
   "cell_type": "code",
   "execution_count": null,
   "id": "a234a4e9-a79e-4be0-b585-ff5d78748084",
   "metadata": {},
   "outputs": [],
   "source": [
    "We defined a function is_palindrome() that:\n",
    "\n",
    "Removes spaces: replace(\" \", \"\")\n",
    "\n",
    "Converts text to lowercase: lower()\n",
    "\n",
    "Checks if string is equal to its reverse (text[::-1]).\n",
    "\n",
    "In the main program, we take input and call the function.\n",
    "\n",
    "Finally, we print whether it's a palindrome or not.\n",
    "\n"
   ]
  },
  {
   "cell_type": "raw",
   "id": "6c621895-b28c-4d89-acc9-c292c7a9b50c",
   "metadata": {},
   "source": [
    "Find Maximum and Minimum in a List\n",
    "Problem Statement:\n",
    "Take a list of numbers from the user.\n",
    "\n",
    "Write functions to find:\n",
    "\n",
    "Maximum number\n",
    "\n",
    "Minimum number"
   ]
  },
  {
   "cell_type": "code",
   "execution_count": null,
   "id": "0bcec8f8-2d22-47fe-a67b-310f189a57ba",
   "metadata": {},
   "outputs": [],
   "source": []
  }
 ],
 "metadata": {
  "kernelspec": {
   "display_name": "Python 3 (ipykernel)",
   "language": "python",
   "name": "python3"
  },
  "language_info": {
   "codemirror_mode": {
    "name": "ipython",
    "version": 3
   },
   "file_extension": ".py",
   "mimetype": "text/x-python",
   "name": "python",
   "nbconvert_exporter": "python",
   "pygments_lexer": "ipython3",
   "version": "3.12.7"
  }
 },
 "nbformat": 4,
 "nbformat_minor": 5
}
