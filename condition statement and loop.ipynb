{
 "cells": [
  {
   "cell_type": "markdown",
   "id": "4514c2fd-be6b-453b-a0a7-57d1df403305",
   "metadata": {},
   "source": [
    "What is an if statement in Python?\n",
    "An if statement is a conditional statement that allows your program to make decisions.\n",
    "\n",
    "It checks a condition (an expression that evaluates to either True or False).\n",
    "\n",
    "If the condition is True, the block of code under the if statement runs.\n",
    "\n",
    "If it's False, the block is skipped."
   ]
  },
  {
   "cell_type": "code",
   "execution_count": null,
   "id": "4b4644fc-3dfe-452e-87a5-47fcb5537bfb",
   "metadata": {},
   "outputs": [],
   "source": [
    "if condition:\n",
    "    # code to execute if condition is True"
   ]
  },
  {
   "cell_type": "code",
   "execution_count": 3,
   "id": "1e03efb7-3991-4cda-836f-0598e54e3a4e",
   "metadata": {},
   "outputs": [
    {
     "name": "stdout",
     "output_type": "stream",
     "text": [
      "x is greater than 5\n"
     ]
    }
   ],
   "source": [
    "x = 10\n",
    "\n",
    "if x > 5:\n",
    "    print(\"x is greater than 5\")\n"
   ]
  },
  {
   "cell_type": "code",
   "execution_count": null,
   "id": "30cbb786-3368-419a-b5c7-552771776aef",
   "metadata": {},
   "outputs": [],
   "source": [
    "#if else statement\n",
    "\n",
    "if checks a condition.\n",
    "\n",
    "If the condition is True, code inside the if block runs.\n",
    "\n",
    "If the condition is False, code inside the else block runs.\n",
    "\n",
    "👉 In short:\n",
    "✅ If true → do this.\n",
    "❌ If false → do something else.\n",
    "\n",
    "if condition:\n",
    "    # code to run if condition is True\n",
    "else:\n",
    "    # code to run if condition is False\n"
   ]
  },
  {
   "cell_type": "code",
   "execution_count": 4,
   "id": "89f7472f-5418-4e36-9f1f-196517f5898a",
   "metadata": {},
   "outputs": [
    {
     "name": "stdout",
     "output_type": "stream",
     "text": [
      "x is not greater than 5\n"
     ]
    }
   ],
   "source": [
    "x = 7\n",
    "\n",
    "if x > 5:\n",
    "    print(\"x is greater than 5\")\n",
    "else:\n",
    "    print(\"x is not greater than 5\")"
   ]
  },
  {
   "cell_type": "code",
   "execution_count": null,
   "id": "82862a7e-48e4-4af0-a7cf-a0fdab034633",
   "metadata": {},
   "outputs": [],
   "source": [
    "#check eligible for vote or not"
   ]
  },
  {
   "cell_type": "code",
   "execution_count": 8,
   "id": "6c214d47-768b-4118-b61f-8940134513ad",
   "metadata": {},
   "outputs": [
    {
     "name": "stdin",
     "output_type": "stream",
     "text": [
      "Enter your age:  89\n"
     ]
    },
    {
     "name": "stdout",
     "output_type": "stream",
     "text": [
      "You are eligible to vote.\n"
     ]
    }
   ],
   "source": [
    "a = int(input(\"Enter your age: \"))\n",
    "\n",
    "if a >= 18:\n",
    "    print(\"You are eligible to vote.\")\n",
    "else:\n",
    "    print(\"You are not eligible to vote.\")\n"
   ]
  },
  {
   "cell_type": "markdown",
   "id": "de52b3ac-dbbd-45e1-9224-768a14374709",
   "metadata": {},
   "source": [
    "student are failed or passed"
   ]
  },
  {
   "cell_type": "code",
   "execution_count": null,
   "id": "a5efe63c-ba0b-407a-b92c-59e9ab684050",
   "metadata": {},
   "outputs": [],
   "source": [
    "marks = float(input(\"Enter your marks: \"))\n",
    "\n",
    "if marks >= 40:\n",
    "    print(\"You passed!\")\n",
    "else:\n",
    "    print(\"You failed.\")"
   ]
  },
  {
   "cell_type": "code",
   "execution_count": null,
   "id": "c9b96c03-7024-4a32-ba04-ced5f4a29019",
   "metadata": {},
   "outputs": [],
   "source": [
    "#if elif statement\n",
    "Sometimes you have more than one condition to check.\n",
    "\n",
    "You start with if — first condition.\n",
    "\n",
    "If that fails, you can check another condition using elif (\"else if\").\n",
    "\n",
    "You can have multiple elif blocks.\n",
    "\n",
    "Finally, you can add else if none of the conditions are true.\n",
    "\n",
    "\n",
    "\n",
    "if condition1:\n",
    "    # code block 1\n",
    "elif condition2:\n",
    "    # code block 2\n",
    "elif condition3:\n",
    "    # code block 3\n",
    "else:\n",
    "    # code block if none of the above conditions are true\n",
    "\n"
   ]
  },
  {
   "cell_type": "code",
   "execution_count": 12,
   "id": "f70ec9cf-1a81-49e3-a099-cae78de956a2",
   "metadata": {},
   "outputs": [
    {
     "name": "stdin",
     "output_type": "stream",
     "text": [
      "Enter your marks:  76\n"
     ]
    },
    {
     "name": "stdout",
     "output_type": "stream",
     "text": [
      "Grade: C\n"
     ]
    }
   ],
   "source": [
    "marks = int(input(\"Enter your marks: \"))\n",
    "\n",
    "if marks >= 90:\n",
    "    print(\"Grade: A\")\n",
    "elif marks >= 80:\n",
    "    print(\"Grade: B\")\n",
    "elif marks >= 70:\n",
    "    print(\"Grade: C\")\n",
    "elif marks >= 60:\n",
    "    print(\"Grade: D\")\n",
    "else:\n",
    "    print(\"Grade: F\")\n"
   ]
  },
  {
   "cell_type": "code",
   "execution_count": 4,
   "id": "557b9fa8-8902-41e7-b05c-26cbef235bdc",
   "metadata": {},
   "outputs": [
    {
     "name": "stdout",
     "output_type": "stream",
     "text": [
      "Number is greater than 5 but not greater than 10\n"
     ]
    }
   ],
   "source": [
    "number =25\n",
    "\n",
    "if number > 8:\n",
    "    print(\"Number is greater than 20\")\n",
    "elif number > 10:\n",
    "    print(\"Number is greater than 10 but not greater than 20\")\n",
    "elif number > 5:\n",
    "    print(\"Number is greater than 5 but not greater than 10\")\n",
    "else:\n",
    "    print(\"Number is 5 or less\")\n"
   ]
  },
  {
   "cell_type": "code",
   "execution_count": 10,
   "id": "b04ca53b-97bd-47d8-9a8f-52cb8bb7a70e",
   "metadata": {},
   "outputs": [
    {
     "name": "stdout",
     "output_type": "stream",
     "text": [
      "Hot\n"
     ]
    }
   ],
   "source": [
    "temperature = 35\n",
    "\n",
    "if temperature >= 40:\n",
    "    print(\"Very Hot\")\n",
    "elif temperature >= 30:\n",
    "    print(\"Hot\")\n",
    "elif temperature >= 20:\n",
    "    print(\"Warm\")\n",
    "else:\n",
    "    print(\"Cold\")"
   ]
  },
  {
   "cell_type": "code",
   "execution_count": null,
   "id": "db559f8c-0be6-47ba-9896-f0931314322a",
   "metadata": {},
   "outputs": [],
   "source": [
    "if condition1:\n",
    "    # code for condition1\n",
    "    if condition2:\n",
    "        # code for condition2\n",
    "    else:\n",
    "        # code if condition2 is False\n",
    "else:\n",
    "    # code if condition1 is False\n"
   ]
  },
  {
   "cell_type": "code",
   "execution_count": 3,
   "id": "293f80d8-d1c1-4e68-a685-4aef84b3f9eb",
   "metadata": {},
   "outputs": [
    {
     "name": "stdin",
     "output_type": "stream",
     "text": [
      "Enter your marks:  56\n"
     ]
    },
    {
     "name": "stdout",
     "output_type": "stream",
     "text": [
      "You passed.\n",
      "Good job, but you can do better.\n"
     ]
    }
   ],
   "source": [
    "marks = int(input(\"Enter your marks: \"))\n",
    "\n",
    "if marks >= 40:\n",
    "    print(\"You passed.\")\n",
    "    \n",
    "    if marks >= 75:\n",
    "        print(\"Excellent performance!\")\n",
    "    else:\n",
    "        print(\"Good job, but you can do better.\")\n",
    "else:\n",
    "    print(\"You failed.\")\n"
   ]
  },
  {
   "cell_type": "code",
   "execution_count": 6,
   "id": "aa956293-03f7-403c-b81f-ae6af83d89cc",
   "metadata": {},
   "outputs": [
    {
     "name": "stdin",
     "output_type": "stream",
     "text": [
      "Enter amount to withdraw:  6000\n"
     ]
    },
    {
     "name": "stdout",
     "output_type": "stream",
     "text": [
      "Insufficient balance.\n"
     ]
    }
   ],
   "source": [
    "balance = 5000\n",
    "withdraw = int(input(\"Enter amount to withdraw: \"))\n",
    "\n",
    "if withdraw <= balance:\n",
    "    print(\"Processing your withdrawal.\")\n",
    "    \n",
    "    if withdraw > 2000:\n",
    "        print(\"Large withdrawal. Please collect your cash carefully.\")\n",
    "    else:\n",
    "        print(\"Please collect your cash.\")\n",
    "else:\n",
    "    print(\"Insufficient balance.\")\n"
   ]
  },
  {
   "cell_type": "raw",
   "id": "e256fbd0-10d0-4776-a809-23a899420fbf",
   "metadata": {},
   "source": [
    "loops \n",
    "while loop\n",
    "A while loop repeats a block of code as long as a condition is true.\n",
    "The moment the condition becomes false, the loop stops.\n",
    "while condition:\n",
    "    # code to execute\n",
    "\n"
   ]
  },
  {
   "cell_type": "code",
   "execution_count": 3,
   "id": "923959d8-caa6-49fa-bc7f-501e260152a1",
   "metadata": {},
   "outputs": [
    {
     "name": "stdout",
     "output_type": "stream",
     "text": [
      "1\n",
      "2\n",
      "3\n",
      "4\n",
      "5\n"
     ]
    }
   ],
   "source": [
    "i = 1\n",
    "\n",
    "while i <= 5:\n",
    "    print(i)\n",
    "    i += 1"
   ]
  },
  {
   "cell_type": "code",
   "execution_count": null,
   "id": "0b2c6795-f34b-433d-b8a4-a4ad69d20c68",
   "metadata": {},
   "outputs": [],
   "source": [
    "i = 1\n",
    "\n",
    "while i <= 5:\n",
    "    print(i)\n",
    "# i never increases, so this loop runs forever!\n"
   ]
  },
  {
   "cell_type": "raw",
   "id": "5cfc1bf5-6904-4d52-96fd-e079cab36685",
   "metadata": {},
   "source": [
    " i starts at 1\n",
    "2️⃣ Condition i <= 5 is true → loop runs, prints i\n",
    "3️⃣ i increases by 1 (i += 1)\n",
    "4️⃣ This repeats until i becomes 6 → now condition is false → loop stops."
   ]
  },
  {
   "cell_type": "code",
   "execution_count": 1,
   "id": "282d7a64-918f-4ac9-a60a-6e305c48d698",
   "metadata": {},
   "outputs": [
    {
     "name": "stdout",
     "output_type": "stream",
     "text": [
      "1\n",
      "2\n",
      "3\n",
      "4\n",
      "5\n"
     ]
    }
   ],
   "source": [
    "#with break statement\n",
    "i = 1\n",
    "\n",
    "while True:\n",
    "    print(i)\n",
    "    i += 1\n",
    "    if i > 5:\n",
    "        break\n"
   ]
  },
  {
   "cell_type": "code",
   "execution_count": 7,
   "id": "e5923a44-b90f-4317-b09b-9a7a47f4004f",
   "metadata": {},
   "outputs": [
    {
     "name": "stdin",
     "output_type": "stream",
     "text": [
      "Enter password:  yug\n",
      "Enter password:  hgjg\n",
      "Enter password:  python123\n"
     ]
    },
    {
     "name": "stdout",
     "output_type": "stream",
     "text": [
      "Access granted!\n"
     ]
    }
   ],
   "source": [
    "password = \"python123\"\n",
    "attempt = \"\"\n",
    "\n",
    "while attempt != password:\n",
    "    attempt = input(\"Enter password: \")\n",
    "\n",
    "print(\"Access granted!\")\n"
   ]
  },
  {
   "cell_type": "code",
   "execution_count": null,
   "id": "e7b4a4ee-ff43-4bbd-bd55-180677aed4f6",
   "metadata": {},
   "outputs": [],
   "source": []
  },
  {
   "cell_type": "raw",
   "id": "655848f5-82b7-4320-8789-5597daf7d6f3",
   "metadata": {},
   "source": [
    "FOR LOOP\n",
    "➔ Definition:\n",
    "Repeats a block of code for each item in a sequence (like list, string, range, tuple, etc.).\n",
    "\n",
    "Used when the number of iterations is known or defined."
   ]
  },
  {
   "cell_type": "code",
   "execution_count": null,
   "id": "d0974b0b-4267-4573-9774-b6f300f8139a",
   "metadata": {},
   "outputs": [],
   "source": [
    "for variable in sequence:\n",
    "    # code to execute\n"
   ]
  },
  {
   "cell_type": "code",
   "execution_count": 9,
   "id": "65762207-3623-4029-902a-a5796c86142b",
   "metadata": {},
   "outputs": [
    {
     "name": "stdout",
     "output_type": "stream",
     "text": [
      "apple\n",
      "banana\n",
      "cherry\n"
     ]
    }
   ],
   "source": [
    "fruits = [\"apple\", \"banana\", \"cherry\"]\n",
    "\n",
    "for a in fruits:\n",
    "    print(a)\n"
   ]
  },
  {
   "cell_type": "code",
   "execution_count": 2,
   "id": "6364b73f-d813-45ac-91b1-0a54725451e6",
   "metadata": {},
   "outputs": [
    {
     "name": "stdout",
     "output_type": "stream",
     "text": [
      "1\n",
      "2\n",
      "3\n",
      "4\n",
      "5\n",
      "6\n"
     ]
    }
   ],
   "source": [
    "for i in range(1, 7):\n",
    "    print(i)\n"
   ]
  },
  {
   "cell_type": "code",
   "execution_count": 3,
   "id": "d3d4f853-94e1-4a23-bcea-644f0e03fffa",
   "metadata": {},
   "outputs": [
    {
     "name": "stdout",
     "output_type": "stream",
     "text": [
      "1\n",
      "3\n",
      "5\n",
      "7\n",
      "9\n",
      "11\n",
      "13\n",
      "15\n",
      "17\n",
      "19\n"
     ]
    }
   ],
   "source": [
    "\n",
    "#positive no between 2 to 20\n",
    "\n",
    "for i in range(1, 21):\n",
    "    if i % 2 != 0:\n",
    "        print(i)\n"
   ]
  },
  {
   "cell_type": "code",
   "execution_count": 1,
   "id": "2b76f78a-28c3-49e3-a561-bcc886c580bb",
   "metadata": {},
   "outputs": [
    {
     "name": "stdout",
     "output_type": "stream",
     "text": [
      "Sum is: 55\n"
     ]
    }
   ],
   "source": [
    "\n",
    " #Sum of first 10 natural numbers using while loop\n",
    "\n",
    "i = 1\n",
    "total = 0\n",
    "\n",
    "while i <= 10:\n",
    "    total += i\n",
    "    i += 1\n",
    "\n",
    "print(\"Sum is:\", total)\n",
    "\n"
   ]
  },
  {
   "cell_type": "code",
   "execution_count": 2,
   "id": "0103d4bc-2104-4b8b-a1a7-82956648da0f",
   "metadata": {},
   "outputs": [
    {
     "name": "stdin",
     "output_type": "stream",
     "text": [
      "Type something (type 'stop' to end):  67\n"
     ]
    },
    {
     "name": "stdout",
     "output_type": "stream",
     "text": [
      "You typed: 67\n"
     ]
    },
    {
     "name": "stdin",
     "output_type": "stream",
     "text": [
      "Type something (type 'stop' to end):  5676\n"
     ]
    },
    {
     "name": "stdout",
     "output_type": "stream",
     "text": [
      "You typed: 5676\n"
     ]
    },
    {
     "name": "stdin",
     "output_type": "stream",
     "text": [
      "Type something (type 'stop' to end):  stop\n"
     ]
    }
   ],
   "source": [
    "#Exercise 4: Stop the loop when user enters \"stop\"\n",
    "\n",
    "while True:\n",
    "    user_input = input(\"Type something (type 'stop' to end): \")\n",
    "    if user_input == \"stop\":\n",
    "        break\n",
    "    print(\"You typed:\", user_input)\n"
   ]
  },
  {
   "cell_type": "code",
   "execution_count": 3,
   "id": "44ac03dc-3a05-4926-8d34-6d0d539bd2e7",
   "metadata": {},
   "outputs": [
    {
     "name": "stdout",
     "output_type": "stream",
     "text": [
      "10\n",
      "9\n",
      "8\n",
      "7\n",
      "6\n",
      "5\n",
      "4\n",
      "3\n",
      "2\n",
      "1\n",
      "Time's up!\n"
     ]
    }
   ],
   "source": [
    "import time\n",
    "\n",
    "for i in range(10, 0, -1):\n",
    "    print(i)\n",
    "    time.sleep(1)  # wait 1 second\n",
    "\n",
    "print(\"Time's up!\")\n"
   ]
  },
  {
   "cell_type": "code",
   "execution_count": 5,
   "id": "4aeef5a8-5568-4c83-8113-2153f85f79d1",
   "metadata": {},
   "outputs": [
    {
     "name": "stdin",
     "output_type": "stream",
     "text": [
      "Enter a string (or type 'exit' to quit):  exit\n"
     ]
    },
    {
     "name": "stdout",
     "output_type": "stream",
     "text": [
      "Exiting program. Goodbye!\n"
     ]
    }
   ],
   "source": [
    "def string_analyzer():\n",
    "    while True:\n",
    "        # Take input from user\n",
    "        user_string = input(\"Enter a string (or type 'exit' to quit): \")\n",
    "        \n",
    "        if user_string.lower() == 'exit':\n",
    "            print(\"Exiting program. Goodbye!\")\n",
    "            break  # Exit the loop if user types 'exit'\n",
    "\n",
    "        # Display original string\n",
    "        print(\"\\nOriginal String:\", user_string)\n",
    "\n",
    "        # Remove leading and trailing spaces\n",
    "        cleaned_string = user_string.strip()\n",
    "        print(\"After strip():\", cleaned_string)\n",
    "\n",
    "        # String length\n",
    "        length = len(cleaned_string)\n",
    "        print(\"Length of string:\", length)\n",
    "\n",
    "        # Convert to lowercase & uppercase\n",
    "        print(\"Lowercase:\", cleaned_string.lower())\n",
    "        print(\"Uppercase:\", cleaned_string.upper())\n",
    "\n",
    "        # Reverse the string\n",
    "        reversed_string = cleaned_string[::-1]\n",
    "        print(\"Reversed String:\", reversed_string)\n",
    "\n",
    "        # Check if string starts with a vowel\n",
    "        if cleaned_string[0].lower() in ['a', 'e', 'i', 'o', 'u']:\n",
    "            print(\"The string starts with a vowel.\")\n",
    "        else:\n",
    "            print(\"The string does not start with a vowel.\")\n",
    "\n",
    "        # Replace spaces with hyphens\n",
    "        modified_string = cleaned_string.replace(\" \", \"-\")\n",
    "        print(\"Spaces replaced with hyphens:\", modified_string)\n",
    "\n",
    "        # Find a substring\n",
    "        sub = input(\"Enter a substring to search: \")\n",
    "        pos = cleaned_string.find(sub)\n",
    "        if pos != -1:\n",
    "            print(\"Substring found at index\")\n",
    "        else:\n",
    "            print(\"Substring not found.\")\n",
    "\n",
    "        # Use continue to give user another chance\n",
    "        choice = input(\"\\nDo you want to analyze another string? (yes/no): \")\n",
    "        if choice.lower() != 'yes':\n",
    "            print(\"Exiting program. Goodbye!\")\n",
    "            break\n",
    "\n",
    "# Call the function\n",
    "string_analyzer()\n"
   ]
  },
  {
   "cell_type": "code",
   "execution_count": 1,
   "id": "868aa2e0-f37a-41da-a75b-7825da5c86ec",
   "metadata": {},
   "outputs": [
    {
     "name": "stdout",
     "output_type": "stream",
     "text": [
      "Original list: [-2, 0, 1, 4, 7, 10, 15, 20]\n",
      "Filtered list (positive and even): [4, 10, 20]\n"
     ]
    }
   ],
   "source": [
    "def filter_numbers(numbers: list) -> list:\n",
    "    \"\"\"\n",
    "    Filters a list of integers to return only those that are positive and even.\n",
    "    \"\"\"\n",
    "    filtered_list = []\n",
    "    for number in numbers:\n",
    "        # Check if the number is positive AND even\n",
    "        if number > 0 and number % 2 == 0:\n",
    "            filtered_list.append(number)\n",
    "    return filtered_list\n",
    "\n",
    "# Example Usage:\n",
    "my_list = [-2, 0, 1, 4, 7, 10, 15, 20]\n",
    "result = filter_numbers(my_list)\n",
    "print(f\"Original list: {my_list}\")\n",
    "print(f\"Filtered list (positive and even): {result}\")\n"
   ]
  },
  {
   "cell_type": "code",
   "execution_count": 2,
   "id": "a78dae8d-fbcd-46da-81fe-72ee23ab2711",
   "metadata": {},
   "outputs": [
    {
     "name": "stdout",
     "output_type": "stream",
     "text": [
      "Original sentence: 'Python is fun'\n",
      "Sentence with words reversed: 'fun is Python'\n",
      "Original sentence: 'Hello world from Python'\n",
      "Sentence with words reversed: 'Python from world Hello'\n"
     ]
    }
   ],
   "source": [
    "def reverse_words(sentence: str) -> str:\n",
    "    \"\"\"\n",
    "    Reverses the order of words in a sentence, keeping word characters intact.\n",
    "    \"\"\"\n",
    "    # 1. Split the sentence into a list of words\n",
    "    words = sentence.split(' ')\n",
    "\n",
    "    # 2. Reverse the list of words\n",
    "    # One way: words.reverse()\n",
    "    # Another way (creates new list): reversed_words = words[::-1]\n",
    "    # Another way: reversed_words = list(reversed(words))\n",
    "    words.reverse() # Modifies the list in place\n",
    "\n",
    "    # 3. Join the words back into a sentence\n",
    "    reversed_sentence = ' '.join(words)\n",
    "    return reversed_sentence\n",
    "\n",
    "# Example Usage:\n",
    "text = \"Python is fun\"\n",
    "reversed_text = reverse_words(text)\n",
    "print(f\"Original sentence: '{text}'\")\n",
    "print(f\"Sentence with words reversed: '{reversed_text}'\")\n",
    "\n",
    "text2 = \"Hello world from Python\"\n",
    "reversed_text2 = reverse_words(text2)\n",
    "print(f\"Original sentence: '{text2}'\")\n",
    "print(f\"Sentence with words reversed: '{reversed_text2}'\")\n"
   ]
  }
 ],
 "metadata": {
  "kernelspec": {
   "display_name": "Python [conda env:base] *",
   "language": "python",
   "name": "conda-base-py"
  },
  "language_info": {
   "codemirror_mode": {
    "name": "ipython",
    "version": 3
   },
   "file_extension": ".py",
   "mimetype": "text/x-python",
   "name": "python",
   "nbconvert_exporter": "python",
   "pygments_lexer": "ipython3",
   "version": "3.12.7"
  }
 },
 "nbformat": 4,
 "nbformat_minor": 5
}
