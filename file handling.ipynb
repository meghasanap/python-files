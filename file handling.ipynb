{
 "cells": [
  {
   "cell_type": "raw",
   "id": "c41a2367-955e-4ffd-867b-e967ddd3c86d",
   "metadata": {},
   "source": [
    "File Handling in Python allows us to create, read, write, and delete files. It's crucial when we want to store or retrieve data persistently (even after the program ends).\n",
    "\n",
    "Python provides built-in functions to work with files.\n",
    "\n"
   ]
  },
  {
   "cell_type": "raw",
   "id": "a83eca91-cc0d-4260-9b57-d78dd604e404",
   "metadata": {},
   "source": [
    "File Operations in Python\n",
    "Python allows several operations on files:\n",
    "\n",
    "Operation\tDescription\n",
    "Open\tTo open a file\n",
    "Read\tTo read the contents of a file\n",
    "Write\tTo write data into a file\n",
    "Append\tTo add data at the end of a file\n",
    "Close\tTo close the file after work\n",
    "Delete\tTo remove a file (with os module)"
   ]
  },
  {
   "cell_type": "code",
   "execution_count": 2,
   "id": "4b4d1683-f1bb-4368-900f-09c2f0919591",
   "metadata": {},
   "outputs": [],
   "source": [
    "#Opening a File: open()\n",
    "\n",
    "f = open(\"demo.txt\", \"r\")\n",
    "\n"
   ]
  },
  {
   "cell_type": "code",
   "execution_count": 3,
   "id": "25bd17fd-b636-477e-aaf6-746c3e4346f0",
   "metadata": {},
   "outputs": [
    {
     "ename": "FileNotFoundError",
     "evalue": "[Errno 2] No such file or directory: 'dmo.txt'",
     "output_type": "error",
     "traceback": [
      "\u001b[1;31m---------------------------------------------------------------------------\u001b[0m",
      "\u001b[1;31mFileNotFoundError\u001b[0m                         Traceback (most recent call last)",
      "Cell \u001b[1;32mIn[3], line 3\u001b[0m\n\u001b[0;32m      1\u001b[0m \u001b[38;5;66;03m#read()\u001b[39;00m\n\u001b[0;32m      2\u001b[0m \u001b[38;5;66;03m#Reads the entire content of the file as a string.\u001b[39;00m\n\u001b[1;32m----> 3\u001b[0m f \u001b[38;5;241m=\u001b[39m \u001b[38;5;28mopen\u001b[39m(\u001b[38;5;124m\"\u001b[39m\u001b[38;5;124mdmo.txt\u001b[39m\u001b[38;5;124m\"\u001b[39m, \u001b[38;5;124m\"\u001b[39m\u001b[38;5;124mr\u001b[39m\u001b[38;5;124m\"\u001b[39m)\n\u001b[0;32m      4\u001b[0m content \u001b[38;5;241m=\u001b[39m f\u001b[38;5;241m.\u001b[39mread()\n\u001b[0;32m      5\u001b[0m \u001b[38;5;28mprint\u001b[39m(content)\n",
      "File \u001b[1;32m~\\anaconda3\\Lib\\site-packages\\IPython\\core\\interactiveshell.py:324\u001b[0m, in \u001b[0;36m_modified_open\u001b[1;34m(file, *args, **kwargs)\u001b[0m\n\u001b[0;32m    317\u001b[0m \u001b[38;5;28;01mif\u001b[39;00m file \u001b[38;5;129;01min\u001b[39;00m {\u001b[38;5;241m0\u001b[39m, \u001b[38;5;241m1\u001b[39m, \u001b[38;5;241m2\u001b[39m}:\n\u001b[0;32m    318\u001b[0m     \u001b[38;5;28;01mraise\u001b[39;00m \u001b[38;5;167;01mValueError\u001b[39;00m(\n\u001b[0;32m    319\u001b[0m         \u001b[38;5;124mf\u001b[39m\u001b[38;5;124m\"\u001b[39m\u001b[38;5;124mIPython won\u001b[39m\u001b[38;5;124m'\u001b[39m\u001b[38;5;124mt let you open fd=\u001b[39m\u001b[38;5;132;01m{\u001b[39;00mfile\u001b[38;5;132;01m}\u001b[39;00m\u001b[38;5;124m by default \u001b[39m\u001b[38;5;124m\"\u001b[39m\n\u001b[0;32m    320\u001b[0m         \u001b[38;5;124m\"\u001b[39m\u001b[38;5;124mas it is likely to crash IPython. If you know what you are doing, \u001b[39m\u001b[38;5;124m\"\u001b[39m\n\u001b[0;32m    321\u001b[0m         \u001b[38;5;124m\"\u001b[39m\u001b[38;5;124myou can use builtins\u001b[39m\u001b[38;5;124m'\u001b[39m\u001b[38;5;124m open.\u001b[39m\u001b[38;5;124m\"\u001b[39m\n\u001b[0;32m    322\u001b[0m     )\n\u001b[1;32m--> 324\u001b[0m \u001b[38;5;28;01mreturn\u001b[39;00m io_open(file, \u001b[38;5;241m*\u001b[39margs, \u001b[38;5;241m*\u001b[39m\u001b[38;5;241m*\u001b[39mkwargs)\n",
      "\u001b[1;31mFileNotFoundError\u001b[0m: [Errno 2] No such file or directory: 'dmo.txt'"
     ]
    }
   ],
   "source": [
    "#read()\n",
    "#Reads the entire content of the file as a string.\n",
    "f = open(\"demo.txt\", \"r\")\n",
    "content = f.read()\n",
    "print(content)\n",
    "f.close()\n"
   ]
  },
  {
   "cell_type": "code",
   "execution_count": 10,
   "id": "1fac22dd-0f86-469c-9d4d-d13df6cedf60",
   "metadata": {},
   "outputs": [
    {
     "name": "stdout",
     "output_type": "stream",
     "text": [
      "with open(\"demo.txt\", \"w\") as f:\n",
      "\n"
     ]
    }
   ],
   "source": [
    "#readline()\n",
    "#Reads one line at a time.\n",
    "f = open(\"demo.txt\", \"r\")\n",
    "line = f.readline()\n",
    "print(line)\n",
    "f.close()\n"
   ]
  },
  {
   "cell_type": "code",
   "execution_count": 7,
   "id": "53d54a29-1fb7-4e63-a311-46dd0d7bf140",
   "metadata": {},
   "outputs": [
    {
     "name": "stdout",
     "output_type": "stream",
     "text": [
      "['Line 1\\n', 'Line 2\\n']\n"
     ]
    }
   ],
   "source": [
    "#readlines()\n",
    "#Reads all lines into a list.\n",
    "f = open(\"demo.txt\", \"r\")\n",
    "lines = f.readlines()\n",
    "print(lines)\n",
    "f.close()\n"
   ]
  },
  {
   "cell_type": "raw",
   "id": "b872ea29-c60f-464f-be7a-9ea12d27d47e",
   "metadata": {},
   "source": [
    "Writing to a File\n",
    "write()\n",
    "Writes a string to the file (overwrites if in 'w' mode)."
   ]
  },
  {
   "cell_type": "code",
   "execution_count": 1,
   "id": "220a133b-d70e-4f91-bcf5-fac6e0412977",
   "metadata": {},
   "outputs": [],
   "source": [
    "f = open(\"demo.txt\", \"w\")\n",
    "f.write(\"Hello, World!\")\n",
    "f.close()\n"
   ]
  },
  {
   "cell_type": "code",
   "execution_count": 2,
   "id": "045682ca-678b-4af5-86c4-3732ddb73a21",
   "metadata": {},
   "outputs": [],
   "source": [
    "#writelines()\n",
    "#Writes a list of strings.\n",
    "f = open(\"demo.txt\", \"w\")\n",
    "lines = [\"Line 1\\n\", \"Line 2\\n\"]\n",
    "f.writelines(lines)\n",
    "f.close()\n"
   ]
  },
  {
   "cell_type": "code",
   "execution_count": 8,
   "id": "80b0d50b-87aa-4584-b3e6-9e6b3dc55c07",
   "metadata": {},
   "outputs": [],
   "source": [
    " #Appending to a File\n",
    "f = open(\"demo.txt\", \"a\")\n",
    "f.write(\"\\nAppended line\")\n",
    "f.close()\n",
    "\n",
    " #Closing a File: close()\n",
    "f.close()\n"
   ]
  },
  {
   "cell_type": "code",
   "execution_count": 9,
   "id": "d46c9e16-e247-4582-8861-254d94fe3324",
   "metadata": {},
   "outputs": [
    {
     "name": "stdout",
     "output_type": "stream",
     "text": [
      "Line 1\n",
      "Line 2\n",
      "\n",
      "Appended line\n"
     ]
    }
   ],
   "source": [
    " #Using with Statement (Best Practice)\n",
    "#Automatically handles closing the file.\n",
    "\n",
    "with open(\"demo.txt\", \"r\") as f:\n",
    "    content = f.read()\n",
    "    print(content)\n",
    "# file is automatically closed here\n"
   ]
  },
  {
   "cell_type": "raw",
   "id": "3eda6177-101d-4c19-bb6e-32717faa369d",
   "metadata": {},
   "source": [
    "Tell and Seek\n",
    "tell() – Returns the current file pointer position.\n",
    "\n",
    "seek() – Changes the file pointer position."
   ]
  },
  {
   "cell_type": "code",
   "execution_count": 10,
   "id": "99d40340-0aae-42b2-a83c-4b3135af89d8",
   "metadata": {},
   "outputs": [
    {
     "name": "stdout",
     "output_type": "stream",
     "text": [
      "0\n",
      "5\n",
      "Line 1\n",
      "Line 2\n",
      "\n",
      "Appended line\n"
     ]
    }
   ],
   "source": [
    "f = open(\"demo.txt\", \"r\")\n",
    "print(f.tell())        # 0\n",
    "f.read(5)              # Read 5 characters\n",
    "print(f.tell())        # 5\n",
    "f.seek(0)              # Go back to beginning\n",
    "print(f.read())        # Read again from start\n",
    "f.close()\n"
   ]
  },
  {
   "cell_type": "code",
   "execution_count": 3,
   "id": "5d8ae5cc-ffe7-48ba-9b92-239d20f567f9",
   "metadata": {},
   "outputs": [
    {
     "name": "stdout",
     "output_type": "stream",
     "text": [
      "File written successfully.\n",
      "\n",
      "--- File Content After Writing ---\n",
      "This is the first line written to the file.\n",
      "This is the second line.\n",
      "\n",
      "\n",
      "Line appended successfully.\n",
      "\n",
      "--- File Content After Appending ---\n",
      "This is the first line written to the file.\n",
      "This is the second line.\n",
      "This line is appended to the file.\n",
      "\n",
      "\n",
      "File deleted successfully.\n"
     ]
    }
   ],
   "source": [
    "import os\n",
    "\n",
    "# 1. Write to a new file\n",
    "file = open(\"example.txt\", \"w\")\n",
    "file.write(\"This is the first line written to the file.\\n\")\n",
    "file.write(\"This is the second line.\\n\")\n",
    "file.close()  # Closing the file after writing\n",
    "print(\"File written successfully.\")\n",
    "\n",
    "# 2. Read the file\n",
    "file = open(\"example.txt\", \"r\")\n",
    "content = file.read()\n",
    "print(\"\\n--- File Content After Writing ---\")\n",
    "print(content)\n",
    "file.close()  # Closing after reading\n",
    "\n",
    "# 3. Append to the file\n",
    "file = open(\"example.txt\", \"a\")\n",
    "file.write(\"This line is appended to the file.\\n\")\n",
    "file.close()\n",
    "print(\"\\nLine appended successfully.\")\n",
    "\n",
    "# 4. Read again to confirm append\n",
    "file = open(\"example.txt\", \"r\")\n",
    "content = file.read()\n",
    "print(\"\\n--- File Content After Appending ---\")\n",
    "print(content)\n",
    "file.close()\n",
    "\n",
    "# 5. Delete the file\n",
    "if os.path.exists(\"example.txt\"):\n",
    "    os.remove(\"example.txt\")\n",
    "    print(\"\\nFile deleted successfully.\")\n",
    "else:\n",
    "    print(\"\\nThe file does not exist.\")\n"
   ]
  }
 ],
 "metadata": {
  "kernelspec": {
   "display_name": "Python 3 (ipykernel)",
   "language": "python",
   "name": "python3"
  },
  "language_info": {
   "codemirror_mode": {
    "name": "ipython",
    "version": 3
   },
   "file_extension": ".py",
   "mimetype": "text/x-python",
   "name": "python",
   "nbconvert_exporter": "python",
   "pygments_lexer": "ipython3",
   "version": "3.12.7"
  }
 },
 "nbformat": 4,
 "nbformat_minor": 5
}
